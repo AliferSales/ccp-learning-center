{
  "nbformat": 4,
  "nbformat_minor": 0,
  "metadata": {
    "colab": {
      "name": "1.1 Notebook Class 1",
      "version": "0.3.2",
      "provenance": [],
      "collapsed_sections": [
        "fCqwc1HjFWb8",
        "C1YNlZW7Lyih",
        "tpXgRZ2Zh6OA",
        "lVOAq5zjgQQe",
        "PKZ9gMbOgQQf"
      ],
      "toc_visible": true,
      "include_colab_link": true
    }
  },
  "cells": [
    {
      "cell_type": "markdown",
      "metadata": {
        "id": "view-in-github",
        "colab_type": "text"
      },
      "source": [
        "<a href=\"https://colab.research.google.com/github/AliferSales/ccp-learning-center/blob/master/ccp-learning-center/blackboard/module-1/class-1/1-Notebook.ipynb\" target=\"_parent\"><img src=\"https://colab.research.google.com/assets/colab-badge.svg\" alt=\"Open In Colab\"/></a>"
      ]
    },
    {
      "metadata": {
        "id": "qJzFpgUPEFXb",
        "colab_type": "text"
      },
      "cell_type": "markdown",
      "source": [
        "# Discovering the Waze data\n",
        "\n",
        "\n",
        "---\n",
        "\n",
        "Our purpose in our first class is introduce and explain what is the **Waze Data**. This will be very useful to make important analysis to improve the traffic in the cities around the world. In the section 1 we introduce the **Waze** and the **Waze Connected Citizens Program** (CCP). Then, in the sections 2 and 3, we briefly present the three data types available by Waze, **jams**, **alerts** and **irregularities**, through the Waze GeoAPI and show how the information displayed in the Waze App are turned in structured data. Finally, in the next three sections, we explain in detail each of these data types and how they are returned. "
      ]
    },
    {
      "metadata": {
        "id": "fCqwc1HjFWb8",
        "colab_type": "text"
      },
      "cell_type": "markdown",
      "source": [
        "## 1. A quick introduction to Waze and Waze CCP\n",
        "---\n"
      ]
    },
    {
      "metadata": {
        "id": "427sbAFh4RAN",
        "colab_type": "text"
      },
      "cell_type": "markdown",
      "source": [
        "In this section, we will see that Waze is a part of the Internet of Things and we will understand what is the Waze workflow and the Waze CCP."
      ]
    },
    {
      "metadata": {
        "id": "yrcQOLXj53ft",
        "colab_type": "text"
      },
      "cell_type": "markdown",
      "source": [
        "### 1.1 Internet of things (IoT)"
      ]
    },
    {
      "metadata": {
        "id": "MNoMUyzDJuk-",
        "colab_type": "text"
      },
      "cell_type": "markdown",
      "source": [
        "Internet of things is the network of physical devices and other items embedded with sensors, data capture resources and connectivity which enables to exchange data, creating opportunities for a more direct integration.\n",
        "\n",
        "<img style=\"width=800px\" src=\"https://drive.google.com/uc?export=view&id=1aQrWTVOaL1UEudb7o-de2tBCplY0xyZd\">\n",
        "\n",
        "The previous picture presents a good ideia of the Internet of Things system. On the real world, there are **things conncected to the internet**. These things, that range from cell phones to intelligent watches and from city bikes to buses tracked by GPS, send a several types of information via internet to the IoT networking, where the **data is storaged**. Then, the data can be used by **analytic engines** to improve and understand the user experience, to inform business and organizations and to provide feedback to the users.\n",
        "\n",
        "The IoT has several applications, as smart locks, smart watches, smart homes and connected cars. [Here you can see another examples of IoT implementations](https://internetofthingswiki.com/iot-applications-examples/541/). And we separeted [a study carried by IoT Analytics in 2018](https://iot-analytics.com/top-10-iot-segments-2018-real-iot-projects/) which shows a ranking of the segments with most projects on the Internet of Things. And if you like spoiler: The top 1 of this ranking is... **Smart Cities**.\n",
        "\n",
        "> **Wikipédia** _(sep/2018)_: A smart city uses different types of electronic data collection sensors to supply information which is used to manage assets and resources efficiently. This includes data collected from citizens, devices, and assets that is processed and analyzed to monitor and manage traffic and transportation systems, power plants, water supply networks, waste management, law enforcement, information systems, schools, libraries, hospitals, and other community services."
      ]
    },
    {
      "metadata": {
        "id": "d-RSPaUzLoUX",
        "colab_type": "text"
      },
      "cell_type": "markdown",
      "source": [
        "### 1.2 Waze as a part of the IoT\n"
      ]
    },
    {
      "metadata": {
        "id": "bIvnuJFqLyWZ",
        "colab_type": "text"
      },
      "cell_type": "markdown",
      "source": [
        "[Waze](https://www.waze.com/) is a crowdsource traffic and navigation app based on community contribution. Waze community is composed by:\n",
        "* **Map editors**, that build and update waze maps about road changes;\n",
        "* **Waze users** (or Wazers), that send and exchange traffic information that feed the live map; and\n",
        "* **Waze team**, that coordinates and support all efforts.\n",
        "\n",
        "Waze and Wazers are parts of the Internet of Things network, generating a large amount of data of traffic conditions, occurrences and incidents in real time. A community of more than 100 million drivers and street users all over the world sharing data and appointments about traffic. Every device connected to waze sends geo-location data that is processed and aggregated, generating instantaneous views about travel time, average speed and traffic conditions of routes. Users can also report traffic-related issues and conditions that are viewed and rated by other users, providing data and records of perceptions about traffic events. These data make up a large database with a wide range of average speed records, congestion levels, accident reports, potholes appointments on roads, traffic light issues, weather related conditions and traffic dangers perceptions among others informations. All the data have geographical position and time record that can be used for statistical and spatial analyses.\n",
        "\n",
        "Amazing, right?! But the question is: **How does it work and where is the IoT?**\n",
        "\n",
        "<img style=\"width=800px\" src=\"https://drive.google.com/uc?export=view&id=1RHhKrTn2XObOk-SgtWC4oVJSw88vNAUu\">\n",
        "\n",
        "As we can see in the previous image, the Waze dataflow is exactly on the IoT format. The things connected to internet are the **smartphones with the Waze App**, the data are storaged via the **Waze App** and the **Traffic Information** are analysed by the analytic engines. The process is very simple and follows:\n",
        "\n",
        "1. Wazers provide information through their cell phones. Besides their geolocation position and speed, wazers actively send alerts to warn other wazers about traffic conditions, road closures, potholes and many more.\n",
        "\n",
        "2. All this data is sent to a database through the Waze App.\n",
        "\n",
        "3. With lots of traffic data generated by wazers, it is possible to perform analysis to identify jams and recommend the best route to reach the desired destination. Also, alerts information is shared with other users to warn them of possible road problems.\n",
        "\n",
        "However, Waze goes beyond that...\n",
        "\n",
        " "
      ]
    },
    {
      "metadata": {
        "id": "wbcPSUWSLyYw",
        "colab_type": "text"
      },
      "cell_type": "markdown",
      "source": [
        "### 1.3 Waze CCP"
      ]
    },
    {
      "metadata": {
        "id": "TUpQoVfPLygC",
        "colab_type": "text"
      },
      "cell_type": "markdown",
      "source": [
        "Besides the common app user, Waze engages a broader community with cities and citizens. [Waze Connected Citizens Program – CCP](https://www.waze.com/ccp) is an initiative of technical cooperation between the waze team, partners in developing solutions with waze data, cities and road operators to share data and ideas. The program allows cities and traffic managers to access waze data and share with the app users oficial traffic information about road closures and events.\n",
        "\n",
        "The use of Waze data has great potential for applications in studies and monitoring of traffic performance, road safety, operational conditions, road infrastructure problems, emergency situations and perceptions of road users. Sharing traffic informations with waze community is an opportunity to improve communication channels and interaction with citizens about traffic interventions and events that impact mobility. It is also a possibility to assist in the registration, monitoring and measurement of the impacts and unfolding of cities actions.\n",
        "\n",
        "<img style=\"width=800px\" src=\"https://drive.google.com/uc?export=view&id=1sEs8fzj2KQrRq6-81Rr0Zhj7eigYwb5b\">\n",
        "\n",
        "The combination and cross-checking of Waze data and other city data sources also enables the development and improvement of advanced studies for city planning and urban mobility applications. For example we can cite some ideas such as measuring traffic jam costs, prevention and prediction of traffic accidents, traffic flow estimation, CO emission level estimation and dynamics traffic light managents.\n",
        "\n",
        "The data can be accessed and worked using free tools, which allows to generate analysis and visualization platforms quickly, easily, with basic resources and without costs or very low investment.\n"
      ]
    },
    {
      "metadata": {
        "id": "erYEP2fcaC8i",
        "colab_type": "text"
      },
      "cell_type": "markdown",
      "source": [
        "---\n",
        "WOW! Now we already know what is Waze, Waze CCP and Internet of Things, as well how Waze as a part of the IoT. Whit that, let's discover how does the information we view in the Waze App become usable data. The rest of this notebook will show what are the information that contained on the Waze map and how these data is structured. \n",
        "\n",
        "---"
      ]
    },
    {
      "metadata": {
        "id": "C1YNlZW7Lyih",
        "colab_type": "text"
      },
      "cell_type": "markdown",
      "source": [
        "## 2. From Waze map to data\n",
        "\n",
        "---"
      ]
    },
    {
      "metadata": {
        "id": "Etx142-LYbIz",
        "colab_type": "text"
      },
      "cell_type": "markdown",
      "source": [
        "The purpose of this section is to show you the information we can see on the Waze map. Let's get a real Waze live map image and identify the different types of data we can extract from it. Then, let's see what the alerts, jams and data irregularities are.\n",
        "\n",
        "After that, in the next sections, we'll look at the full information for each of these data types."
      ]
    },
    {
      "metadata": {
        "id": "ptNWwhD42YTx",
        "colab_type": "text"
      },
      "cell_type": "markdown",
      "source": [
        "### 2.1 The Waze Map"
      ]
    },
    {
      "metadata": {
        "id": "o3WIZrW2a4ow",
        "colab_type": "text"
      },
      "cell_type": "markdown",
      "source": [
        "All the information the wazers report from their Waze App to the Waze databases, as traffic jams, traffic accidents or potholes, are showed to the anothers users on the Waze map. This map is updated every time and anyone can acess it from the app or from [the Waze website](https://www.waze.com/livemap/) for any place of world (of course, where there are Waze users).\n",
        "\n",
        "In the figure below, we can see a part of the live map for the São Paulo city - certainly it is familiar if you already opened the waze app on there, at the hush hour. \n",
        "\n",
        "<img style=\"width=800px\" src=\"https://drive.google.com/uc?export=view&id=1LuB0D2tyyPiopgL1v43pbF-MR0dN5B9c\">\n",
        "\n",
        "We will use three differents types of data from Waze: **Jams**, **Alerts** and **Irregularities**. To explain each of that, we'll start with alerts and jams and for that let's use the previous image, where we highlight an alert and a traffic jam.\n",
        "\n",
        "The goal of this section isn't explore all the information from this data types. Our propurse is to give you an ideia of them and, principally, their differences."
      ]
    },
    {
      "metadata": {
        "id": "6tNNZ1pCa4hD",
        "colab_type": "text"
      },
      "cell_type": "markdown",
      "source": [
        "### 2.2 Jams"
      ]
    },
    {
      "metadata": {
        "id": "pV86EMbja3A6",
        "colab_type": "text"
      },
      "cell_type": "markdown",
      "source": [
        "The **jams** are sets of line segments that indicate traffic slowdown information generated by the Waze based on the user’s location and speed. A jam segment is a set of smaller road segments. To represent a jam segment, we need to know the geographical position of its road segments' endpoints. From the highlighted jam in the image, we picked yellow points on its road segments' endpoints and each of this points has a lat-long location. Its traffic jam information are:\n",
        "\n",
        "| **Field**  | **Information**  |\n",
        "|---|---|\n",
        "| Time | 2018-09-20 23:55 | \n",
        "| Address | R. Iguatemi, São Paulo, Brazil | \n",
        "| Speed | 4.33 km/h | \n",
        "| Road endpoint (lat, long) | -23.584837, -46.682061 |\n",
        "| Road endpoint (lat, long) | -23.585574, -46.681589 |\n",
        "| Road endpoint (lat, long) | -23.585937, -46.681475 |\n",
        "| Road endpoint (lat, long) | -23.586171, -46.681242 |\n",
        "| Road endpoint (lat, long) | -23.586229, -46.681111 |\n"
      ]
    },
    {
      "metadata": {
        "id": "D4F_cXZ0a4mK",
        "colab_type": "text"
      },
      "cell_type": "markdown",
      "source": [
        "### 2.3 Alerts"
      ]
    },
    {
      "metadata": {
        "id": "i2oxNmaBa4jc",
        "colab_type": "text"
      },
      "cell_type": "markdown",
      "source": [
        "The **alerts** are traffic incidents reported by users. They are represented by circle shapes with a tip to their geographical position and their inside figure corresponds to the reported alert. From the specific alert highlighted in the image, we can identify the following information - *Save this example, because we will use it in the next section*.\n",
        "\n",
        "| **Field**  | **Information**  |\n",
        "|---|---|\n",
        "| Time | 2018-09-20 23:55 | \n",
        "| Address | R. Claudomiro Amazonas, São Paulo, Brazil | \n",
        "| Type | Jam: stand-still traffic | \n",
        "| Location (lat, long) | -23.585318, -46.679824 | \n",
        "\n",
        "<br>\n",
        "Wonderful! Now you know what is jams and alerts. But, what is the third data type: irregulatities? "
      ]
    },
    {
      "metadata": {
        "id": "yHo2kUuP25gY",
        "colab_type": "text"
      },
      "cell_type": "markdown",
      "source": [
        "### 2.4 Irregularities"
      ]
    },
    {
      "metadata": {
        "id": "i9eHIbTs25d7",
        "colab_type": "text"
      },
      "cell_type": "markdown",
      "source": [
        "A **irregularity** is simply a jam that is irregular. From the analytic engines, Waze knows what jams are supposed to happen at a certain time and day of the week. When there is a jam that were not predicted, Waze reports it as a particular data type called irregularities.\n"
      ]
    },
    {
      "metadata": {
        "id": "ur5tMTPQ25bq",
        "colab_type": "text"
      },
      "cell_type": "markdown",
      "source": [
        "---\n",
        "Ok! We know that we do not show all the available data of the alerts, jams, and irregularities and that you should be excited to know it. But before, we will show how to represent the example of alerts, that we used in this section, in different data formats. This will be very useful to understand the complete alerts, jams and irregularities data in the sections 4, 5 and 6.\n",
        "\n",
        "---"
      ]
    },
    {
      "metadata": {
        "id": "YIag3hpt25Y5",
        "colab_type": "text"
      },
      "cell_type": "markdown",
      "source": [
        "## 3. Structuring the data\n",
        "\n",
        "---"
      ]
    },
    {
      "metadata": {
        "id": "X_7wbpLn25WU",
        "colab_type": "text"
      },
      "cell_type": "markdown",
      "source": [
        "In the previous section, we showed three differents data types and some informations that we can extract from them. Before we show the complete information about these data types, we need to learn some data structures that allow computers understand and process this data. Therefore, we will show 3 differents tabular data strucutes: CSV, JSON and XML.\n",
        "\n",
        "To help us to understand the following data formats, we will use the alert example from the section 2. To remember that, we've put together the example information in the image below. This example will be used throughout the section.\n",
        "\n",
        "\n",
        "<img style=\"width=800px\" src=\"https://drive.google.com/uc?export=view&id=1vi8xawOeKsqUETsZtnzNaTfWLP2fXiuc\">\n"
      ]
    },
    {
      "metadata": {
        "id": "yppKrkuK25T8",
        "colab_type": "text"
      },
      "cell_type": "markdown",
      "source": [
        "### 3.1 CSV"
      ]
    },
    {
      "metadata": {
        "id": "ufxRdGaz25Rl",
        "colab_type": "text"
      },
      "cell_type": "markdown",
      "source": [
        "The **Comma Separated Value** is the tabular most common data structure. Usualy, we use the CSV files to data structured as table and, because of that, convert it to spreadsheets is simple and its strucutre is very simmilar to a table. Let's see the general strucure.\n",
        " \n",
        " \n",
        "```\n",
        "column1, column2, column3, ..., columnk\n",
        "value1, value2, value3, ..., \"value k\"\n",
        "\"info 1\", \"info 2\", \"info 3\", ..., infok\n",
        "..., ..., ..., ..., ...\n",
        "1, 2, 3, ..., k\n",
        "\n",
        "```\n",
        "\n",
        "The code above is a general csv file. Each row of the file is a row of the represented table and the columns are separated by the comma (and the name derives from that). So, if we convert the previous csv to a spreadsheets or any table visualizator, we see the following table:  \n",
        "\n",
        "| column1 | column2 | column3 | ... | columnk |\n",
        "|---|---|---|---|---|\n",
        "| value1 | value2 | value3 | ... | value k |\n",
        "| info 1 | info 2 | info 3 | ... | infok |\n",
        "| ... | ... | ... | ... | ... |\n",
        "| 1 | 2 | 3 | ... | k |\n",
        "\n",
        "To represent our example information in a CSV file, we will need write the following file (with .csv extension) and will have the following table representation:\n",
        "\n",
        "```\n",
        "time, country, city, street, type, subtype, lat, lng\n",
        "\"2018-09-21 13:29:00:000\",BR,\"São Paulo\",\"R. Claudomiro Amazonas\", JAM,\"JAM-STAND-STILL-TRAFFIC\",-23.585318,-46.679824\n",
        "```\n",
        "\n",
        "| time | country | city | street | type | subtype | lat | lng |\n",
        "| --- | ---|---|---|---|---|---|---|\n",
        "| 2018-09-21 13:29:00:000 | BR | São Paulo | R. Claudomiro Amazonas | JAM | JAM-STAND-STILL-TRAFFIC | -23.585318 | -46.679824 |"
      ]
    },
    {
      "metadata": {
        "id": "CcyafVRw4Ung",
        "colab_type": "text"
      },
      "cell_type": "markdown",
      "source": [
        "### 3.2 JSON"
      ]
    },
    {
      "metadata": {
        "id": "F4YXKxjd6vLa",
        "colab_type": "text"
      },
      "cell_type": "markdown",
      "source": [
        "Our second data format is the **JavaScript Object Notation**.  Let's see the general structure.\n",
        "\n",
        "```json\n",
        "{\n",
        "  \"items\": [\n",
        "    {\"item1\": \"value1\"},\n",
        "    {\"item2\": {\n",
        "      \"subitem1\": \"value2.1\"\n",
        "      \"subitem2\": 22\n",
        "      \"subitem3\": \"value2.3\"\n",
        "    }},\n",
        "    {\"item3\": 3}\n",
        "  ]\n",
        "}\n",
        "\n",
        "```\n",
        "\n",
        "The structure of a json file is simple. Each value (information) is an object, that always begin with `{` and end with `}`. The object has attributes that can be interpreted as a key-value pair (e.g, `key:value`). The key is a string and the value can be a simple data (string, integer, float or boolean), another object or a list of objects. Every string used for key definition or value is written between double quotation marks and to created a list of objects, we must begin with `[` and end with `]`. \n",
        "\n",
        "In our current example, the json file is:\n",
        "\n",
        "```json\n",
        "{\n",
        "  \"startTime\": \"2018-09-20 23:55:00:000\",\n",
        "  \"endTime\": \"2018-09-20 23:56:00:000\",\n",
        "  \"alerts\": [{\n",
        "      \"country\": \"BR\",\n",
        "      \"city\": \"São Paulo\",\n",
        "      \"street\": \"R. Claudomiro Amazonas\",\n",
        "      \"location\": {\n",
        "          \"x\": -46.679824,\n",
        "          \"y\": -23.585318\n",
        "      },\n",
        "      \"type\": \"JAM\",\n",
        "      \"subtype\": \"JAM_STAND_STILL_TRAFFIC\"\n",
        "  }]\n",
        "}\n",
        "```"
      ]
    },
    {
      "metadata": {
        "id": "4RcKfMe26vIX",
        "colab_type": "text"
      },
      "cell_type": "markdown",
      "source": [
        "### 3.3 XML"
      ]
    },
    {
      "metadata": {
        "id": "k_xCwALk6vOC",
        "colab_type": "text"
      },
      "cell_type": "markdown",
      "source": [
        "Finaly, the **eXtensible Markup Language** is our third data structure and its general formats is:\n",
        "\n",
        "```xml\n",
        "<items>\n",
        "  <item1> value1 </item1>\n",
        "  <item2>\n",
        "    <subitem1> value2.1 </subitem1>\n",
        "    <subitem2> 222 </subitem2>\n",
        "    <subitem3> value2.3 </subitem3>\n",
        "  </item2>\n",
        "  <item3> 3 </item3>\n",
        "</items>\n",
        "```\n",
        "\n",
        "Instead objects as JSON, the XML is composed by tags, that is structured as follows: `<name>content</name>`. The tag's name is a string (written without the quote marks) and the content is a simple data or another tag. To create a list of tags, we just need to write tags with the same name.\n",
        "\n",
        "In our example, we have the following XML file:\n",
        "\n",
        "```xml\n",
        "<title> alert </title>\n",
        "<pubDate> Thu Sep 20 23:55:00 +0000 2018 </pubDate>\n",
        "<georss:point> -23.585318 -46.679824 </georss:point>\n",
        "<linqmap:type> JAM </linqmap:type>\n",
        "<linqmap:subtype> JAM_STAND_STILL_TRAFFIC </linqmap:subtype>\n",
        "<linqmap:street> Av. Claudomiro Amazonas </linqmap:street>\n",
        "<linqmap:city> São Paulo </linqmap:city>\n",
        "<linqmap:country> BR </linqmap:country>\n",
        "```\n"
      ]
    },
    {
      "metadata": {
        "id": "y2wc_r9D6u_F",
        "colab_type": "text"
      },
      "cell_type": "markdown",
      "source": [
        "---\n",
        "As we’ve seen, JSON and XML are good ways to structure data in a simple file. The Waze GeoRSS API return the data in the both formats, without loss of information. The JSON file is simpler to be work, more commonly used, support arrays and requires less storage space. For these practical reasons, we was selected this format for the development of the analyzes that we will see here. But if preferred, you can use XML, by adapting the JSON examples shown.\n",
        "\n",
        "Well, now we already know how to structure the data and we are prepared to see the full information about jams, alerts and irregularities that Waze turns available to us. So, each section of the next three will be responsible for each data type. \n",
        "\n",
        "---"
      ]
    },
    {
      "metadata": {
        "id": "3IiMKKkN6u8N",
        "colab_type": "text"
      },
      "cell_type": "markdown",
      "source": [
        "## 4. Inside of the JAMS data"
      ]
    },
    {
      "metadata": {
        "id": "GQIzeQ5RxBoT",
        "colab_type": "text"
      },
      "cell_type": "markdown",
      "source": [
        "The **traffic jam data** is the record of one or more road segments based on drivers average speed compared to free-flow speed registers sent by GPS location-points from users phones and wazers traffic jam reports. Thus, every time a number of wazers informs by their GPS an average speed less than 50% of the regular free-flow speed is created a traffic jam report. Moreover, the user-generated traffic jam reports by the wazers are used as an extra verifier and validator for the records and is considered as an alert. The free-flow speed is the regular speed measured on the road segment when there isn't traffic jam. This speed is based on historical data that is constantly updated.\n",
        "\n",
        "This section will present and describe the complete jams data available by the Waze GeoRSS API. "
      ]
    },
    {
      "metadata": {
        "id": "ByuwNIYAxBvG",
        "colab_type": "text"
      },
      "cell_type": "markdown",
      "source": [
        "### 4.1 Data categories"
      ]
    },
    {
      "metadata": {
        "id": "f-5kgfpOxByt",
        "colab_type": "text"
      },
      "cell_type": "markdown",
      "source": [
        "We can separate the jams data into 4 categories. \n",
        "\n",
        "  1. **General Information** - General information about the jam.\n",
        "  2. **Location Information** - Information about the road location.\n",
        "  3. **Traffic status Information** - Information about the traffic status of the occurence.\n",
        "  4. **Road Characteristics Information** - Characteristics about the road.\n",
        "  \n",
        "Each category contains specifcs information about the traffic jams. In the following image we aggregate the Waze GeoAPI returned data in these categories. The content is a real traffic jam ocurred in São Paulo. \n",
        "\n",
        "<img style=\"width=800px\" src=\"https://drive.google.com/uc?export=view&id=16r2AnwIshb8l1VgsqhYTRyCoPSO4nIRT\">\n",
        "\n",
        "Let's see what is each of these information inside the categories."
      ]
    },
    {
      "metadata": {
        "id": "0f5RgXPLxB82",
        "colab_type": "text"
      },
      "cell_type": "markdown",
      "source": [
        "### 4.2 The fields of jams data"
      ]
    },
    {
      "metadata": {
        "id": "Adrk_s93xCAZ",
        "colab_type": "text"
      },
      "cell_type": "markdown",
      "source": [
        "We summarize the fields in the following tables."
      ]
    },
    {
      "metadata": {
        "id": "7EunrRosxCD1",
        "colab_type": "text"
      },
      "cell_type": "markdown",
      "source": [
        "#### **General Information**"
      ]
    },
    {
      "metadata": {
        "id": "JoVI20y-xCJY",
        "colab_type": "text"
      },
      "cell_type": "markdown",
      "source": [
        "<table>\n",
        "  <tr>\n",
        "    <th> Field </th>\n",
        "    <th> Description </th>\n",
        "    <th> Type </th>\n",
        "  </tr>\n",
        "  <tr>\n",
        "    <td> uuid </td>\n",
        "    <td> Unique value of a jam. </td>\n",
        "    <td> integer </td>\n",
        "  </tr>\n",
        "  <tr>\n",
        "    <td> pubMillis </td>\n",
        "    <td> Provide hour, minute, seconds, day, month and year of the occurrence. </td>\n",
        "    <td> integer </td>\n",
        "  </tr>\n",
        "</table>"
      ]
    },
    {
      "metadata": {
        "id": "7slo6TMN_uBZ",
        "colab_type": "text"
      },
      "cell_type": "markdown",
      "source": [
        "#### **Location Information**"
      ]
    },
    {
      "metadata": {
        "id": "xNqGRGrF_uBa",
        "colab_type": "text"
      },
      "cell_type": "markdown",
      "source": [
        "<table>\n",
        "  <tr>\n",
        "    <th> Field </th>\n",
        "    <th> Description </th>\n",
        "    <th> Type </th>\n",
        "  </tr>\n",
        "  <tr>\n",
        "    <td> country </td>\n",
        "    <td> Name of the road country. </td>\n",
        "    <td> string </td>\n",
        "  </tr>\n",
        "  <tr>\n",
        "    <td> city </td>\n",
        "    <td> Name of the road city. </td>\n",
        "    <td> string </td>\n",
        "  </tr>\n",
        "  <tr>\n",
        "    <td> street </td>\n",
        "    <td> Name of the road. </td>\n",
        "    <td> string </td>\n",
        "  </tr>\n",
        "</table>\n"
      ]
    },
    {
      "metadata": {
        "id": "7a9y1je4_w5u",
        "colab_type": "text"
      },
      "cell_type": "markdown",
      "source": [
        "#### **Traffic status Information**"
      ]
    },
    {
      "metadata": {
        "id": "o0Tua4XT_w5u",
        "colab_type": "text"
      },
      "cell_type": "markdown",
      "source": [
        "<table>\n",
        "  <tr>\n",
        "    <th> Field </th>\n",
        "    <th> Description </th>\n",
        "    <th> Type </th>\n",
        "  </tr>\n",
        "  <tr>\n",
        "    <td> level </td>\n",
        "    <td> \n",
        "      Refers to the percentage of difference between the current speed to free flow-speed <br><br>\n",
        "\n",
        "      `0` -> \tFree flow speed to 51% of free fow speed, <br>\n",
        "      `1` -> \t50% to 41%, <br>\n",
        "      `2` -> \t40% to 31%, <br>\n",
        "      `3` -> \t30% to 21%, <br>\n",
        "      `4` -> \t20% to 1% and <br>\n",
        "      `5` -> \tblocked road\n",
        "    </td>\n",
        "    <td> integer </td>\n",
        "  </tr>\n",
        "  <tr>\n",
        "    <td> delay </td>\n",
        "    <td> \n",
        "      Delay to travel segment distance in seconds  compared to free-flow speed. <br>\n",
        "      In case of block the value returns -1.\n",
        " </td>\n",
        "    <td> integer </td>\n",
        "  </tr>\n",
        "  <tr>\n",
        "    <td> speedKMH </td>\n",
        "    <td> Current speed on jammed segments in km/h. </td>\n",
        "    <td> float </td>\n",
        "  </tr>\n",
        "  <tr>\n",
        "    <td> speed </td>\n",
        "    <td> Current speed on jammed segments in miles. </td>\n",
        "    <td> float </td>\n",
        "  </tr>\n",
        "  <tr>\n",
        "    <td> type </td>\n",
        "    <td> \n",
        "      traffic jam type description <br> \n",
        "      ex: `\"type\": \"medium\"`. </td>\n",
        "    <td> string </td>\n",
        "  </tr>\n",
        "  <tr>\n",
        "    <td> startNode </td>\n",
        "    <td> Nearest junction (street name) to segment jam start. </td>\n",
        "    <td> string </td>\n",
        "  </tr>\n",
        "  <tr>\n",
        "    <td> endNode </td>\n",
        "    <td> Nearest junction (street name) to segment jam end. </td>\n",
        "    <td> string </td>\n",
        "  </tr>\n",
        "  <tr>\n",
        "    <td> blockingAlertUuid </td>\n",
        "    <td> \n",
        "      uuid of block alert if the jam is connected to a block<br>\n",
        "      ex: \"1064e72c-0d3b-332d-95c6-1dcab524aa5c\"\n",
        " </td>\n",
        "    <td> string </td>\n",
        "  </tr>\n",
        "</table>"
      ]
    },
    {
      "metadata": {
        "id": "x8wzOKuI_xjT",
        "colab_type": "text"
      },
      "cell_type": "markdown",
      "source": [
        "#### **Road Characteristics  Information**"
      ]
    },
    {
      "metadata": {
        "id": "S-musOHJ_xjV",
        "colab_type": "text"
      },
      "cell_type": "markdown",
      "source": [
        "<table>\n",
        "  <tr>\n",
        "    <th> Field </th>\n",
        "    <th> Description </th>\n",
        "    <th> Type </th>\n",
        "  </tr>\n",
        "  <tr>\n",
        "    <td> line </td>\n",
        "    <td> Array of location objects with the geographical position of the road segments. </td>\n",
        "    <td> array </td>\n",
        "  </tr>\n",
        "  <tr>\n",
        "    <td> segments </td>\n",
        "    <td>  </td>\n",
        "    <td>  </td>\n",
        "  </tr>\n",
        "  <tr>\n",
        "    <td> length </td>\n",
        "    <td> Road segment length in meters. </td>\n",
        "    <td> integer </td>\n",
        "  </tr>\n",
        "  <tr>\n",
        "    <td> roadType </td>\n",
        "    <td> \n",
        "      Road type code.<br><br>\n",
        "\n",
        "      1. Streets <br>\n",
        "      2. Primary Street <br>\n",
        "      3. Freeways <br>\n",
        "      4. Ramps <br>\n",
        "      5. Trails <br>\n",
        "      6. Primary <br>\n",
        "      7. Secondary <br>\n",
        "      8. 4X4 Trails <br>\n",
        "      9. Walkway <br>\n",
        "      10. Pedestrian <br>\n",
        "      11. Exit <br>\n",
        "      14. 4X4 Trails<br>\n",
        "      15. Ferry crossing <br>\n",
        "      16. Stairway <br>\n",
        "      17. Private road <br>\n",
        "      18. Railroads <br>\n",
        "      19. Runway/Taxiway <br>\n",
        "      20. Parking lot road <br>\n",
        "      21. Service road <br>\n",
        "    </td>\n",
        "    <td> integer </td>\n",
        "  </tr>\n",
        "  <tr>\n",
        "    <td> turnType </td>\n",
        "    <td> \n",
        "      Kind of turn. <br><br>\n",
        "      `left`, `right`, `exit R` or `L`, `continue straight` or `NONE`\n",
        "    </td>\n",
        "    <td> string </td>\n",
        "  </tr>\n",
        "</table>"
      ]
    },
    {
      "metadata": {
        "colab_type": "text",
        "id": "4xhicfPLA1dK"
      },
      "cell_type": "markdown",
      "source": [
        "## 5. Inside of the Alerts data"
      ]
    },
    {
      "metadata": {
        "id": "r4fCgBN9gzjt",
        "colab_type": "text"
      },
      "cell_type": "markdown",
      "source": [
        "The **alerts data** is the record of reports made by wazers through waze app. “Wazers provide road reports, which include detailed information about specific traffic and road conditions. They may issue reports from the location at which they are currently located or, if no longer at the location, within 30 minutes after the event occurred. All alerts have reliability and rating score field that allows to assess the level of confidence based on the level of experience of the user that made the report and in the reactions of other users to the report (number of thumbs upby users). This also allows inferring the relevance of the issue reported to users.\n",
        "\n",
        "This section will present and describe the complete alerts data available by the Waze GeoRSS API.\n"
      ]
    },
    {
      "metadata": {
        "id": "tpXgRZ2Zh6OA",
        "colab_type": "text"
      },
      "cell_type": "markdown",
      "source": [
        "### 5.1 Types of alerts"
      ]
    },
    {
      "metadata": {
        "id": "qZGxoSPhh4n_",
        "colab_type": "text"
      },
      "cell_type": "markdown",
      "source": [
        "When it comes to traffic information, we can enumerate so many types of alerts, e.g. potholes on the roads, jams traffic, accidents, etc. Furthermore, the type of a alert is a very important information both for wazers and traffic managers.  Then, the Waze categorized the alerts in intuitive types and subtypes. Let's see each of them."
      ]
    },
    {
      "metadata": {
        "id": "n3mkFb8olBWm",
        "colab_type": "text"
      },
      "cell_type": "markdown",
      "source": [
        "#### Accident"
      ]
    },
    {
      "metadata": {
        "id": "50sjFuehlBUD",
        "colab_type": "text"
      },
      "cell_type": "markdown",
      "source": [
        "The accident reports refer to traffic accidents and have two possible subtypes:\n",
        "- **Major**: Higher severity accident\n",
        "- **Minor**: Lower severity accident"
      ]
    },
    {
      "metadata": {
        "colab_type": "text",
        "id": "2rY7lgaSlQeM"
      },
      "cell_type": "markdown",
      "source": [
        "#### Jam"
      ]
    },
    {
      "metadata": {
        "id": "kTj_4HTAlBRi",
        "colab_type": "text"
      },
      "cell_type": "markdown",
      "source": [
        "It's refers to the jams traffic reported by wazers. There are four subtypes based on the severity jams level:\n",
        "- **Light Traffic**\n",
        "- **Moderate Traffic**\n",
        "- **Heavy Traffic**\n",
        "- **Stand Still Traffic**"
      ]
    },
    {
      "metadata": {
        "colab_type": "text",
        "id": "_x-znMKwlQnl"
      },
      "cell_type": "markdown",
      "source": [
        "#### Hazard/Weather\n"
      ]
    },
    {
      "metadata": {
        "id": "4H61OA-ylBO5",
        "colab_type": "text"
      },
      "cell_type": "markdown",
      "source": [
        "The hazard reports have three categories (on Road, on Shoulder and Weather). Each one divided in multiple subtypes:\n",
        "\n",
        "- **Hazard on Road**: alerts of traffic issues on the road traffic lanes.\n",
        "  - Object\n",
        "  - Pothole\n",
        "  - Road kill\n",
        "  - Lane closed\n",
        "  - Oil\n",
        "  - Ice\n",
        "  - Construction\n",
        "  - Car Stopped\n",
        "  - Broken Traffic Light\n",
        "  \n",
        "- **Hazard on Shoulder**: alerts of traffic issues on the shoulder of a road.\n",
        "  - Car Stopped\n",
        "  - Animals\n",
        "  - Missing Sign\n",
        "\n",
        "- **Hazard Weather**: alerts of weather conditions that impact traffic.\n",
        "  - Fog\n",
        "  - Hail\n",
        "  - Heavy Rain\n",
        "  - Heavy Snow\n",
        "  - Flood\n",
        "  - Monsoon\n",
        "  - Tornado\n",
        "  - Heat Wave\n",
        "  - Hurricane\n",
        "  - Freezing Rain\n"
      ]
    },
    {
      "metadata": {
        "colab_type": "text",
        "id": "XCeV4Jy_lQs1"
      },
      "cell_type": "markdown",
      "source": [
        "#### Construction"
      ]
    },
    {
      "metadata": {
        "id": "tKHzPHHxmWLS",
        "colab_type": "text"
      },
      "cell_type": "markdown",
      "source": [
        "This category is about alerts of construction work on roads that impacts traffic and hasn't subtypes.\n"
      ]
    },
    {
      "metadata": {
        "colab_type": "text",
        "id": "2EmZTopNlQ0a"
      },
      "cell_type": "markdown",
      "source": [
        "#### Road Closed"
      ]
    },
    {
      "metadata": {
        "id": "CE7cEDmymWzy",
        "colab_type": "text"
      },
      "cell_type": "markdown",
      "source": [
        "These alerts appears in closed roads for events or other reasons and have three subtypes:\n",
        "\n",
        "- **Construction**: Closure to traffic by construction works\n",
        "- **Event**: Closure to traffic by events\n",
        "- **Hazard**: For partial closures or lane obstruction by diferente reasons\n"
      ]
    },
    {
      "metadata": {
        "colab_type": "text",
        "id": "Kp3wZyOKlQ6l"
      },
      "cell_type": "markdown",
      "source": [
        "#### MISC"
      ]
    },
    {
      "metadata": {
        "id": "iR4rdvmulBMQ",
        "colab_type": "text"
      },
      "cell_type": "markdown",
      "source": [
        "This category is for other types of alerts are that not included on the types above."
      ]
    },
    {
      "metadata": {
        "colab_type": "text",
        "id": "lVOAq5zjgQQe"
      },
      "cell_type": "markdown",
      "source": [
        "### 5.2 Data categories"
      ]
    },
    {
      "metadata": {
        "colab_type": "text",
        "id": "qqsE-BcGgQQe"
      },
      "cell_type": "markdown",
      "source": [
        "We can separate the alert data into 4 categories. \n",
        "\n",
        "  1. **General Information** - General information about the alert.\n",
        "  2. **Location Information** - Information about the road location.\n",
        "  3. **Alert Details** - Specific information about the alert report.\n",
        "  4. **Road Characteristics Information** - Characteristics about the road.\n",
        "  \n",
        "In the following image we aggregate the Waze GeoAPI returned data in these categories. The content is a real traffic jam ocurred in Osasco, city of São Paulo. \n",
        "\n",
        "<img style=\"width=800px\" src=\"https://drive.google.com/uc?export=view&id=1y0VjOOxS85qmaBj7AAvRK_sGlKICWecX\">\n",
        "\n",
        "Let's see what is each of these information inside the categories."
      ]
    },
    {
      "metadata": {
        "colab_type": "text",
        "id": "PKZ9gMbOgQQf"
      },
      "cell_type": "markdown",
      "source": [
        "### 5.3 The fields of alerts data"
      ]
    },
    {
      "metadata": {
        "colab_type": "text",
        "id": "CMN-qGZUgQQg"
      },
      "cell_type": "markdown",
      "source": [
        "We summarize the fields in the following tables."
      ]
    },
    {
      "metadata": {
        "colab_type": "text",
        "id": "uHBN0TlDgQQh"
      },
      "cell_type": "markdown",
      "source": [
        "#### **General Information**"
      ]
    },
    {
      "metadata": {
        "colab_type": "text",
        "id": "lan3Wdg8gQQi"
      },
      "cell_type": "markdown",
      "source": [
        "<table>\n",
        "  <tr>\n",
        "    <th> Field </th>\n",
        "    <th> Description </th>\n",
        "    <th> Type </th>\n",
        "  </tr>\n",
        "  <tr>\n",
        "    <td> uuid </td>\n",
        "    <td> Unique value of a jam. </td>\n",
        "    <td> string </td>\n",
        "  </tr>\n",
        "  <tr>\n",
        "    <td> pubMillis </td>\n",
        "    <td> Provide hour, minute, seconds, day, month and year of the occurrence. </td>\n",
        "    <td> integer </td>\n",
        "  </tr>\n",
        "</table>"
      ]
    },
    {
      "metadata": {
        "colab_type": "text",
        "id": "H_YPk1L7gQQj"
      },
      "cell_type": "markdown",
      "source": [
        "#### **Location Information**"
      ]
    },
    {
      "metadata": {
        "colab_type": "text",
        "id": "Z0vjjInagQQk"
      },
      "cell_type": "markdown",
      "source": [
        "<table>\n",
        "  <tr>\n",
        "    <th> Field </th>\n",
        "    <th> Description </th>\n",
        "    <th> Type </th>\n",
        "  </tr>\n",
        "  <tr>\n",
        "    <td> country </td>\n",
        "    <td> Name of the road country. </td>\n",
        "    <td> string </td>\n",
        "  </tr>\n",
        "  <tr>\n",
        "    <td> city </td>\n",
        "    <td> Name of the road city. </td>\n",
        "    <td> string </td>\n",
        "  </tr>\n",
        "  <tr>\n",
        "    <td> street </td>\n",
        "    <td> Name of the road. </td>\n",
        "    <td> string </td>\n",
        "  </tr>\n",
        "  <tr>\n",
        "    <td> location </td>\n",
        "    <td> Geographical position of an alert in latitude and longitude. </td>\n",
        "    <td> array </td>\n",
        "  </tr>\n",
        "</table>\n"
      ]
    },
    {
      "metadata": {
        "colab_type": "text",
        "id": "9MwgRC6zgQQl"
      },
      "cell_type": "markdown",
      "source": [
        "#### **Alert details**"
      ]
    },
    {
      "metadata": {
        "colab_type": "text",
        "id": "7p8GdBnRgQQn"
      },
      "cell_type": "markdown",
      "source": [
        "<table>\n",
        "  <tr>\n",
        "    <th> Field </th>\n",
        "    <th> Description </th>\n",
        "    <th> Type </th>\n",
        "  </tr>\n",
        "  <tr>\n",
        "    <td> nThumbsUp </td>\n",
        "    <td> Number of thumbs up for the report. </td>\n",
        "    <td> integer </td>\n",
        "  </tr>\n",
        "  <tr>\n",
        "    <td> reportRating </td>\n",
        "    <td> \n",
        "      Rating of the report based on the user experience ranking. <br>\n",
        "      Variate from 1 (beginner) to 6 (higher ranked user).\n",
        "    </td>\n",
        "    <td> integer </td>\n",
        "  </tr>\n",
        "  <tr>\n",
        "    <td> confidence </td>\n",
        "    <td> \n",
        "      Confidence score based on the reaction of the anothers wazers (‘Thumbs up’, ‘Not there’). <br>\n",
        "      The score ranges between 0 and 10, where a higher score indicates more positive feedback<br>\n",
        "      from Waze users.\n",
        "    </td>\n",
        "    <td> integer </td>\n",
        "  </tr>\n",
        "  <tr>\n",
        "    <td> reliability </td>\n",
        "    <td> \n",
        "      Reliability score based on other user’s reactions and the level of the reporter.<br>\n",
        "      The score (from 0 to 10) indicates how reliable the report is .\n",
        "    </td>\n",
        "    <td> integer </td>\n",
        "  </tr>\n",
        "  <tr>\n",
        "    <td> type </td>\n",
        "    <td> Alert type </td>\n",
        "    <td> string </td>\n",
        "  </tr>\n",
        "  <tr>\n",
        "    <td> subType </td>\n",
        "    <td> Alert subtype </td>\n",
        "    <td> string </td>\n",
        "  </tr>\n",
        "</table>"
      ]
    },
    {
      "metadata": {
        "colab_type": "text",
        "id": "DJK-kGh3gQQp"
      },
      "cell_type": "markdown",
      "source": [
        "#### **Road Characteristics  Information**"
      ]
    },
    {
      "metadata": {
        "colab_type": "text",
        "id": "Y3VbNwsAgQQq"
      },
      "cell_type": "markdown",
      "source": [
        "<table>\n",
        "  <tr>\n",
        "    <th> Field </th>\n",
        "    <th> Description </th>\n",
        "    <th> Type </th>\n",
        "  </tr>\n",
        "  <tr>\n",
        "    <td> roadType </td>\n",
        "    <td> \n",
        "      Road type code.<br><br>\n",
        "\n",
        "      1. Streets <br>\n",
        "      2. Primary Street <br>\n",
        "      3. Freeways <br>\n",
        "      4. Ramps <br>\n",
        "      5. Trails <br>\n",
        "      6. Primary <br>\n",
        "      7. Secondary <br>\n",
        "      8. 4X4 Trails <br>\n",
        "      9. Walkway <br>\n",
        "      10. Pedestrian <br>\n",
        "      11. Exit <br>\n",
        "      14. 4X4 Trails<br>\n",
        "      15. Ferry crossing <br>\n",
        "      16. Stairway <br>\n",
        "      17. Private road <br>\n",
        "      18. Railroads <br>\n",
        "      19. Runway/Taxiway <br>\n",
        "      20. Parking lot road <br>\n",
        "      21. Service road <br>\n",
        "    </td>\n",
        "    <td> integer </td>\n",
        "  </tr>\n",
        "  <tr>\n",
        "    <td> magvar </td>\n",
        "    <td> \n",
        "      Direction of the driver’s device at report time. <br>\n",
        "      The 0 value is the north, 89 is east, 179 is South and 269 is West.\n",
        "    </td>\n",
        "    <td> integer </td>\n",
        "  </tr>\n",
        "</table>"
      ]
    },
    {
      "metadata": {
        "colab_type": "text",
        "id": "Z_VxZAPyA1l4"
      },
      "cell_type": "markdown",
      "source": [
        "## 6. Inside of the Irregularities data"
      ]
    },
    {
      "metadata": {
        "id": "NCdw3fUuBErU",
        "colab_type": "text"
      },
      "cell_type": "markdown",
      "source": [
        "The **irregularities data** are simplily the traffic jams identified by waze system as irregular or atypical by taking into account historical speed data to the same day of the week and hour. The data provides comparison with historical records of average speed  in the waze database for the same segment of road. The data also have trends, traffic severity of the irregularity, a list of the alerts in the jam segment and traffic jam level that give dimensions on the traffic impact and a perspective of issue dynamics. \n",
        "\n",
        "This section will present and describe the complete irregularities data available by the Waze GeoRSS API."
      ]
    },
    {
      "metadata": {
        "colab_type": "text",
        "id": "GWrGtwPMgaCM"
      },
      "cell_type": "markdown",
      "source": [
        "### 6.1 Data categories"
      ]
    },
    {
      "metadata": {
        "colab_type": "text",
        "id": "Y_JCR0zDgaCO"
      },
      "cell_type": "markdown",
      "source": [
        "We can separate the irregularities data into 4 categories. \n",
        "\n",
        "  1. **General Information** - General information about the irregularity.\n",
        "  2. **Location Information** - Information about the road location.\n",
        "  3. **Traffic status Information** - Information about the traffic status of the occurence.\n",
        "  4. **Road Characteristics Information** - Characteristics about the road.\n",
        "  5. **Irregularity Information** - Specific information about the irregularity.\n",
        "  \n",
        "In the following image we aggregate the Waze GeoAPI returned data in these categories. The content is a real irregularity ocurred in São Paulo. \n",
        "\n",
        "<img style=\"width=800px\" src=\"https://drive.google.com/uc?export=view&id=1Wd4aLPa8yWeg_U2hsWGNvfGN_pIJEnKR\">\n",
        "\n",
        "Let's see what is each of these information inside the categories."
      ]
    },
    {
      "metadata": {
        "colab_type": "text",
        "id": "x3B8JEaagaCP"
      },
      "cell_type": "markdown",
      "source": [
        "### 6.2 The fields of irregularity data"
      ]
    },
    {
      "metadata": {
        "colab_type": "text",
        "id": "atsRlx7JgaCQ"
      },
      "cell_type": "markdown",
      "source": [
        "We summarize the fields in the following tables."
      ]
    },
    {
      "metadata": {
        "colab_type": "text",
        "id": "HQvfvBiWkTXa"
      },
      "cell_type": "markdown",
      "source": [
        "#### **General Information**"
      ]
    },
    {
      "metadata": {
        "colab_type": "text",
        "id": "Q5exszm0kTXc"
      },
      "cell_type": "markdown",
      "source": [
        "<table>\n",
        "  <tr>\n",
        "    <th> Field </th>\n",
        "    <th> Description </th>\n",
        "    <th> Type </th>\n",
        "  </tr>\n",
        "  <tr>\n",
        "    <td> uuid </td>\n",
        "    <td> Unique value of a jam. </td>\n",
        "    <td> integer </td>\n",
        "  </tr>\n",
        "  <tr>\n",
        "    <td> updateDate </td>\n",
        "    <td> Date of the last update time of the irregularity record. </td>\n",
        "    <td> string </td>\n",
        "  </tr>\n",
        "  <tr>\n",
        "    <td> updateDateMillis </td>\n",
        "    <td> milliseconds since 1st of January of 1970 until the last up date time of the irregularity record. </td>\n",
        "    <td> integer </td>\n",
        "  </tr>\n",
        "</table>"
      ]
    },
    {
      "metadata": {
        "colab_type": "text",
        "id": "b9PXM_XFkTXd"
      },
      "cell_type": "markdown",
      "source": [
        "#### **Location Information**"
      ]
    },
    {
      "metadata": {
        "colab_type": "text",
        "id": "fd61SDB_kTXe"
      },
      "cell_type": "markdown",
      "source": [
        "<table>\n",
        "  <tr>\n",
        "    <th> Field </th>\n",
        "    <th> Description </th>\n",
        "    <th> Type </th>\n",
        "  </tr>\n",
        "  <tr>\n",
        "    <td> country </td>\n",
        "    <td> Name of the road country. </td>\n",
        "    <td> string </td>\n",
        "  </tr>\n",
        "  <tr>\n",
        "    <td> city </td>\n",
        "    <td> Name of the road city. </td>\n",
        "    <td> string </td>\n",
        "  </tr>\n",
        "  <tr>\n",
        "    <td> street </td>\n",
        "    <td> Name of the road. </td>\n",
        "    <td> string </td>\n",
        "  </tr>\n",
        "</table>\n"
      ]
    },
    {
      "metadata": {
        "colab_type": "text",
        "id": "Amw-wE44kTXf"
      },
      "cell_type": "markdown",
      "source": [
        "#### **Traffic status Information**"
      ]
    },
    {
      "metadata": {
        "colab_type": "text",
        "id": "vPvOAULnkTXg"
      },
      "cell_type": "markdown",
      "source": [
        "<table>\n",
        "  <tr>\n",
        "    <th> Field </th>\n",
        "    <th> Description </th>\n",
        "    <th> Type </th>\n",
        "  </tr>\n",
        "  <tr>\n",
        "    <td> jamLevel </td>\n",
        "    <td> \n",
        "      Refers to the percentage of difference between the current speed to free flow-speed <br><br>\n",
        "\n",
        "      `0` -> \tFree flow speed to 51% of free fow speed, <br>\n",
        "      `1` -> \t50% to 41%, <br>\n",
        "      `2` -> \t40% to 31%, <br>\n",
        "      `3` -> \t30% to 21%, <br>\n",
        "      `4` -> \t20% to 1% and <br>\n",
        "      `5` -> \tblocked road\n",
        "    </td>\n",
        "    <td> integer </td>\n",
        "  </tr>\n",
        "  <tr>\n",
        "    <td> severity </td>\n",
        "    <td> Severity score based on the comparison with historical data. It variates from 0 to 5 (most severe). </td>\n",
        "    <td> integer </td>\n",
        "  </tr>\n",
        "  <tr>\n",
        "    <td> speed </td>\n",
        "    <td> Current speed on jammed segments in km/h. </td>\n",
        "    <td> float </td>\n",
        "  </tr>\n",
        "  <tr>\n",
        "    <td> regularSpeed </td>\n",
        "    <td> historical regular speed on the jam segment in km/h. </td>\n",
        "    <td> float </td>\n",
        "  </tr>\n",
        "    <tr>\n",
        "    <td> delaySeconds </td>\n",
        "    <td> \n",
        "      Delay to travel segment distance in seconds compared to free-flow speed. <br>\n",
        "      In case of block the value returns -1.\n",
        "    </td>\n",
        "    <td> integer </td>\n",
        "  </tr>\n",
        "  <tr>\n",
        "    <td> seconds </td>\n",
        "    <td> Historical time to travel the jam length minus the free flow time. </td>\n",
        "    <td> integer </td>\n",
        "  </tr>\n",
        "  <tr>\n",
        "    <td> type </td>\n",
        "    <td> \n",
        "      Traffic jam type description <br> \n",
        "      ex: `\"type\": \"medium\"`. </td>\n",
        "    <td> string </td>\n",
        "  </tr>\n",
        "  <tr>\n",
        "    <td> startNode </td>\n",
        "    <td> Nearest junction (street name) to segment jam start. </td>\n",
        "    <td> string </td>\n",
        "  </tr>\n",
        "  <tr>\n",
        "    <td> endNode </td>\n",
        "    <td> Nearest junction (street name) to segment jam end. </td>\n",
        "    <td> string </td>\n",
        "  </tr>\n",
        "</table>"
      ]
    },
    {
      "metadata": {
        "colab_type": "text",
        "id": "2kHypL_akTXg"
      },
      "cell_type": "markdown",
      "source": [
        "#### **Road Characteristics  Information**"
      ]
    },
    {
      "metadata": {
        "colab_type": "text",
        "id": "SInn_vzskTXh"
      },
      "cell_type": "markdown",
      "source": [
        "<table>\n",
        "  <tr>\n",
        "    <th> Field </th>\n",
        "    <th> Description </th>\n",
        "    <th> Type </th>\n",
        "  </tr>\n",
        "  <tr>\n",
        "    <td> line </td>\n",
        "    <td> Array of location objects with the geographical position of the road segments. </td>\n",
        "    <td> array </td>\n",
        "  </tr>\n",
        "  <tr>\n",
        "    <td> highway </td>\n",
        "    <td> `true` if the irregularity is in a highway and `false`, otherwise. </td>\n",
        "    <td> boolean </td>\n",
        "  </tr>\n",
        "  <tr>\n",
        "    <td> length </td>\n",
        "    <td> Road segment length in meters. </td>\n",
        "    <td> integer </td>\n",
        "  </tr>\n",
        "</table>"
      ]
    },
    {
      "metadata": {
        "colab_type": "text",
        "id": "ZPjxLZ-S5djN"
      },
      "cell_type": "markdown",
      "source": [
        "#### **Irregularity  Information**"
      ]
    },
    {
      "metadata": {
        "colab_type": "text",
        "id": "MXm3LArS5djP"
      },
      "cell_type": "markdown",
      "source": [
        "<table>\n",
        "  <tr>\n",
        "    <th> Field </th>\n",
        "    <th> Description </th>\n",
        "    <th> Type </th>\n",
        "  </tr>\n",
        "  <tr>\n",
        "    <td> trend </td>\n",
        "    <td> \n",
        "      Trend evaluation of the irregularity based on the last record evolution of the speed and length of the road segment. <br>\n",
        "      <br>\n",
        "      `-1`: improving, <br>\n",
        "      `0`: constant <br>\n",
        "      `1`: getting worse. \n",
        "    </td>\n",
        "    <td> integer </td>\n",
        "  </tr>\n",
        "  <tr>\n",
        "    <td> nThumbsUp </td>\n",
        "    <td> Number of thumbs up for the irregularity report made by other waze users. </td>\n",
        "    <td> integer </td>\n",
        "  </tr>  \n",
        "  <tr>\n",
        "    <td> driversCount </td>\n",
        "    <td> Number of waze users in the irregularity segment. </td>\n",
        "    <td> integer </td>\n",
        "  </tr>  \n",
        "  <tr>\n",
        "    <td> alertsCount </td>\n",
        "    <td> Number of alerts reported by waze users in the irregularity segment. </td>\n",
        "    <td> integer </td>\n",
        "  </tr>  \n",
        "  <tr>\n",
        "    <td> alerts </td>\n",
        "    <td> List of alerts on the jam segment. Each item of this array is a alert json (as in section 5). </td>\n",
        "    <td> array </td>\n",
        "  </tr>\n",
        "  <tr>\n",
        "    <td> nComments </td>\n",
        "    <td> Number of comments for the irregularity report made by other waze users. </td>\n",
        "    <td> integer </td>\n",
        "  </tr>  \n",
        "  <tr>\n",
        "    <td> nImages </td>\n",
        "    <td> Number of images shared for the irregularity report made by other waze users. </td>\n",
        "    <td> integer </td>\n",
        "  </tr>  \n",
        "  <tr>\n",
        "    <td> detectionDate </td>\n",
        "    <td> Date of start time detection of the irregularity record. </td>\n",
        "    <td> string </td>\n",
        "  </tr>\n",
        "  <tr>\n",
        "    <td> detectionDateMillis </td>\n",
        "    <td> Milliseconds since 1st of January of 1970 until the start time detection of the irregularity record. </td>\n",
        "    <td> string </td>\n",
        "  </tr>\n",
        "  <tr>\n",
        "    <td> mapImageUrl </td>\n",
        "    <td> Url of the map image for the irregularity record. </td>\n",
        "    <td> string </td>\n",
        "  </tr>\n",
        "  <tr>\n",
        "    <td> mapImageUrlLastUpdateTime </td>\n",
        "    <td> Last update datetime of the url image for the irregularity record. </td>\n",
        "    <td> string </td>\n",
        "  </tr>\n",
        "</table>"
      ]
    },
    {
      "metadata": {
        "id": "BsslhBKv7jDM",
        "colab_type": "text"
      },
      "cell_type": "markdown",
      "source": [
        "## Conclusion"
      ]
    },
    {
      "metadata": {
        "colab_type": "text",
        "id": "G0k1YLWN7hE8"
      },
      "cell_type": "markdown",
      "source": [
        "It's the end of the class 1. Here, we presented the Waze and the Waze CPP as a part of the IoT, showed how the map information are \"translated\" to structured data and, then, explained in detail the three types of data available by the Waze GeoRSS API: Jams, Alerts and Irregularities.\n",
        "\n",
        "In the next class, we will learn how to get and storege these data.\n",
        "\n",
        "Any suggestion or criticism is very welcome. To do that, [use our github, by clicking here](https://github.com/waze-programs/ccp-learning-center).\n",
        "\n",
        "<img style=\"width=800px\" src=\"https://drive.google.com/uc?export=view&id=1i3Ln64JRfxMseKZ3ZdKFMsRofgn7Q1oY\">"
      ]
    },
    {
      "metadata": {
        "id": "LuF0AjBlJ-P1",
        "colab_type": "code",
        "colab": {}
      },
      "cell_type": "code",
      "source": [
        ""
      ],
      "execution_count": 0,
      "outputs": []
    }
  ]
}