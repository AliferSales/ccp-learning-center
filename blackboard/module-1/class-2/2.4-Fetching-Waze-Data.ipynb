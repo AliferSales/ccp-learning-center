{
 "cells": [
  {
   "cell_type": "code",
   "execution_count": 1,
   "metadata": {
    "ExecuteTime": {
     "end_time": "2018-10-03T19:21:08.033399Z",
     "start_time": "2018-10-03T19:21:07.303902Z"
    },
    "collapsed": true
   },
   "outputs": [],
   "source": [
    "import requests\n",
    "import json\n",
    "from datetime import datetime"
   ]
  },
  {
   "cell_type": "code",
   "execution_count": 2,
   "metadata": {
    "ExecuteTime": {
     "end_time": "2018-10-03T19:21:08.805813Z",
     "start_time": "2018-10-03T19:21:08.800337Z"
    },
    "collapsed": true
   },
   "outputs": [],
   "source": [
    "city = 'Lima' # city name"
   ]
  },
  {
   "cell_type": "code",
   "execution_count": 3,
   "metadata": {
    "ExecuteTime": {
     "end_time": "2018-10-03T19:21:09.271652Z",
     "start_time": "2018-10-03T19:21:09.266427Z"
    },
    "collapsed": true
   },
   "outputs": [],
   "source": [
    "# waze url\n",
    "url = 'https://world-georss.waze.com/rtserver/web/TGeoRSS?acotu=true&format=JSON&irmie=true&types=traffic%2Calerts%2Cirregularities&tk=ccp_partner&ccp_partner_name=Fundacao+Getulio+Vargas&polygon=-77.217,-11.854;-77.286,-12.047;-77.077,-12.312;-76.907,-12.32;-76.742,-12.232;-76.84,-11.871;-77.116,-11.811;-77.217,-11.854'"
   ]
  },
  {
   "cell_type": "code",
   "execution_count": 4,
   "metadata": {
    "ExecuteTime": {
     "end_time": "2018-10-03T19:21:10.041523Z",
     "start_time": "2018-10-03T19:21:10.031069Z"
    },
    "collapsed": true
   },
   "outputs": [],
   "source": [
    "def get_data(url):\n",
    "\n",
    "    headers = {'user-agent': \"Mozilla/5.0 (X11; Fedora; Linux x86_64; rv:38.0) Gecko/20100101 Firefox/38.0\",}\n",
    "\n",
    "    response = requests.get(url, headers=headers)\n",
    "\n",
    "    return response.text"
   ]
  },
  {
   "cell_type": "code",
   "execution_count": 5,
   "metadata": {
    "ExecuteTime": {
     "end_time": "2018-10-03T19:21:10.733067Z",
     "start_time": "2018-10-03T19:21:10.727669Z"
    },
    "collapsed": true
   },
   "outputs": [],
   "source": [
    "def get_date_string():\n",
    "    return datetime.strftime(datetime.now(), '%Y-%m-%d %H:%M:%S')"
   ]
  },
  {
   "cell_type": "code",
   "execution_count": 8,
   "metadata": {
    "ExecuteTime": {
     "end_time": "2018-10-03T19:21:42.437649Z",
     "start_time": "2018-10-03T19:21:42.431551Z"
    },
    "collapsed": true
   },
   "outputs": [],
   "source": [
    "def get_file_name(city):\n",
    "    return '{city}_{date}.json'.format(city=city, date=get_date_string())"
   ]
  },
  {
   "cell_type": "code",
   "execution_count": 9,
   "metadata": {
    "ExecuteTime": {
     "end_time": "2018-10-03T19:21:45.721910Z",
     "start_time": "2018-10-03T19:21:42.603736Z"
    },
    "collapsed": true
   },
   "outputs": [],
   "source": [
    "data = get_data(url)\n",
    "\n",
    "json.dump(json.loads(data), open('data/raw/' + get_file_name(city), 'w'))"
   ]
  }
 ],
 "metadata": {
  "kernelspec": {
   "display_name": "Python 3",
   "language": "python",
   "name": "python3"
  },
  "language_info": {
   "codemirror_mode": {
    "name": "ipython",
    "version": 3
   },
   "file_extension": ".py",
   "mimetype": "text/x-python",
   "name": "python",
   "nbconvert_exporter": "python",
   "pygments_lexer": "ipython3",
   "version": "3.6.2"
  },
  "toc": {
   "nav_menu": {},
   "number_sections": true,
   "sideBar": true,
   "skip_h1_title": false,
   "toc_cell": false,
   "toc_position": {},
   "toc_section_display": "block",
   "toc_window_display": false
  },
  "varInspector": {
   "cols": {
    "lenName": 16,
    "lenType": 16,
    "lenVar": 40
   },
   "kernels_config": {
    "python": {
     "delete_cmd_postfix": "",
     "delete_cmd_prefix": "del ",
     "library": "var_list.py",
     "varRefreshCmd": "print(var_dic_list())"
    },
    "r": {
     "delete_cmd_postfix": ") ",
     "delete_cmd_prefix": "rm(",
     "library": "var_list.r",
     "varRefreshCmd": "cat(var_dic_list()) "
    }
   },
   "types_to_exclude": [
    "module",
    "function",
    "builtin_function_or_method",
    "instance",
    "_Feature"
   ],
   "window_display": false
  }
 },
 "nbformat": 4,
 "nbformat_minor": 2
}
