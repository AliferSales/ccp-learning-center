{
  "nbformat": 4,
  "nbformat_minor": 0,
  "metadata": {
    "colab": {
      "name": "1.2 Notebook Class 2",
      "version": "0.3.2",
      "provenance": [],
      "collapsed_sections": [
        "fCqwc1HjFWb8",
        "C1YNlZW7Lyih",
        "tpXgRZ2Zh6OA",
        "lVOAq5zjgQQe",
        "PKZ9gMbOgQQf"
      ],
      "include_colab_link": true
    }
  },
  "cells": [
    {
      "cell_type": "markdown",
      "metadata": {
        "id": "view-in-github",
        "colab_type": "text"
      },
      "source": [
        "<a href=\"https://colab.research.google.com/github/AliferSales/ccp-learning-center/blob/master/blackboard/module-1/class-2/2-Notebook.ipynb\" target=\"_parent\"><img src=\"https://colab.research.google.com/assets/colab-badge.svg\" alt=\"Open In Colab\"/></a>"
      ]
    },
    {
      "metadata": {
        "id": "cpGk-Wombrdb",
        "colab_type": "text"
      },
      "cell_type": "markdown",
      "source": [
        "# Capturing and storing the Waze data\n",
        "\n",
        "\n",
        "---\n",
        "\n",
        "[[description of the class]]"
      ]
    },
    {
      "metadata": {
        "id": "0Q5oufKXbraV",
        "colab_type": "text"
      },
      "cell_type": "markdown",
      "source": [
        "## 1. Overview\n",
        "---"
      ]
    },
    {
      "metadata": {
        "id": "yzwq2deNiKn2",
        "colab_type": "text"
      },
      "cell_type": "markdown",
      "source": [
        "This section is just an overview of the next sections. So, rather than reading, it's watching our video. Click the image below to see it.\n",
        "\n",
        "_[[Here will be the image (with the link) of the video 1.2.1 ]]_\n",
        "\n",
        "**NOTE: Before we begin, it's important that you already signed up for the Waze CCP through the [website](https://www.waze.com/en-GB/ccp) and finalized the register and partner agreements. Only after that will you can access the Waze GeoRSS API and all data we'll use in the course.**"
      ]
    },
    {
      "metadata": {
        "id": "g0Txw9U8brW8",
        "colab_type": "text"
      },
      "cell_type": "markdown",
      "source": [
        "## 2. Getting the URL of the Waze GeoRSS API request.\n",
        "---"
      ]
    },
    {
      "metadata": {
        "id": "wFiLV1jDbrT-",
        "colab_type": "text"
      },
      "cell_type": "markdown",
      "source": [
        "In this section we will see how to get the Waze data of any place of the world, using basically a polygon of the place. This polygon will be used on the Waze GeoRSS API URL request (which we will understand in detail in section 3) to indicate which parts of the world you want the data come from. So, our main changelle here is draw a specifc polygon of any part of the world map and get its lat-long coordinates to input on the url.\n",
        "\n",
        "Fortunately, Waze CCP made it quick and easy :D At the end of this section, we will have the URL Request for the polygon that we drew on the world map.\n",
        "\n",
        "Well, let's start our step by step!!! "
      ]
    },
    {
      "metadata": {
        "id": "iiWnoW55qm63",
        "colab_type": "text"
      },
      "cell_type": "markdown",
      "source": [
        "### 2.1 Acessing the Waze CCP Partner Portal"
      ]
    },
    {
      "metadata": {
        "id": "zhYwSNGqo54c",
        "colab_type": "text"
      },
      "cell_type": "markdown",
      "source": [
        "The first step is access the [Waze CCP Partner Portal](https://partnerdash.google.com/partnerdash/d/wazeccp). _If you want go directly to the portal and skip to the 2.2, just click in the previous link._\n",
        "\n",
        "1. Access the [Waze Website](https://www.waze.com/)\n",
        "  - https://www.waze.com\n",
        "2. In the Website menu, click in [Partners](https://www.waze.com/partners)\n",
        "3. Click in [Learn More](https://www.waze.com/ccp) on Waze Connected Citizens Program block.\n",
        "4. Then, click in [Partner Portal](https://partnerdash.google.com/partnerdash/) buttom.\n",
        "  - After that, you will see all your partner applications. If you'll be logged with the correct email registered on Waze CCP, you will see the follow image, with [`Waze CCP Partner Portal`](https://partnerdash.google.com/partnerdash/d/wazeccp), written below. Click there.\n",
        "  \n",
        "  <img style=\"width: 20\" src=\"https://www.gstatic.com/partnerdash/application/wazeccp/logo-128_2x.png\">\n",
        "\n",
        "Yes! We are in the Waze CCP Partner Portal. Let's continue!"
      ]
    },
    {
      "metadata": {
        "colab_type": "text",
        "id": "efBNks_8r2rD"
      },
      "cell_type": "markdown",
      "source": [
        "### 2.2 Drawing and generating the polygon "
      ]
    },
    {
      "metadata": {
        "id": "OTICEXNPo_2-",
        "colab_type": "text"
      },
      "cell_type": "markdown",
      "source": [
        "Now, inside the [`Waze CCP Partner Portal`](https://partnerdash.google.com/partnerdash/d/wazeccp), let's draw the polygon and get its coordinates.\n",
        "\n",
        "5. In the lateral menu, click in [`Get Waze Data`](https://partnerdash.google.com/partnerdash/d/wazeccp#p:id=receivedata)\n",
        "6. On the top of the page, click in **`Add Integration`**\n",
        "  - Some options will appear. Because we are working with JSON data structure on the course, we will choose `Get the JSON Waze API`. But, if you are working with XML format, just select `Get the XML Waze API` and you won't be problems - we hope!\n",
        "7. Select **`Get the JSON Waze API`** (_or `Get the XML Waze API`_).\n",
        "8. Select **`Custom Polygons`**.\n",
        "9. Click in the **text box**, which are writted `Add Polygon`. A window with a map inside will be openned.\n",
        "10. Move and use zoom on the map to localizate the place(s) that you want create the polygon(s). \n",
        "11. Click in the the **draw polygon icon** (\n",
        "  <img style=\"width=80px\" src=\"https://drive.google.com/uc?export=view&id=1-pAQoNi-WR_iYulw-PocdzjUBjJcL_3_\">\n",
        ") to, finally, draw the polygon(s) \n",
        "\n",
        "12. **Draw the polygon**, by clicking on the map.\n",
        "13. When you've finished, there will appear, in the text box over the map, a POLYGON object, that is the representation of the polygon that you made, where each tuple of 2 float is a point that you drew.\n",
        "  - A example is the polygon of Campinas, city of São Paulo:\n",
        "  ```json\n",
        "   POLYGON((\n",
        "      -47.125 -22.87,-47.197 -22.958,-47.159 -23.029,\n",
        "      -47.061 -23.024,-46.996 -22.949,-46.947 -22.867,\n",
        "      -47.017 -22.8,-47.1 -22.834,-47.125 -22.87\n",
        "   ))\n",
        "  ```\n",
        "14. Press **`Ok`**. A new text box appears and you can draw more polygons, restarting from step 9. It's useful when your city is divided, as Alaska and the rest of the USA.\n",
        "15. Press **`Request`**.\n",
        "\n",
        "You will be redirected back to [`Get Waze Data`](https://partnerdash.google.com/partnerdash/d/wazeccp#p:id=receivedata) page, but now with the new request, which you just created. In there, you have access to the polygon(s) and to the **URL** of the request."
      ]
    },
    {
      "metadata": {
        "id": "xRUAbybq9QQ8",
        "colab_type": "text"
      },
      "cell_type": "markdown",
      "source": [
        "---\n",
        "The URL is very important because is through it that you will get the Waze data of a specific set of polygons. However, would be good if we understand well each part of the URL, right? So, let's go to the next section!\n",
        "\n",
        "---"
      ]
    },
    {
      "metadata": {
        "id": "rBOozV8E-b0y",
        "colab_type": "text"
      },
      "cell_type": "markdown",
      "source": [
        "## 3. Understanding the URL request\n",
        "---"
      ]
    },
    {
      "metadata": {
        "id": "thiT7Hcy-b31",
        "colab_type": "text"
      },
      "cell_type": "markdown",
      "source": [
        "Here, we will understand in detail the Waze GeoRSS API URL Request. In a very simple way, this URL is a web address that according to some parameters chosen by the user (you), will return the Waze data, as we saw in the previous class. Then, we need to understand what is each of these parameters and how indicate, in the URL, which city or region of the world we want request the data.\n",
        "\n",
        "Let's begin with a example of the URL.\n",
        "\n",
        "```\n",
        "https://<something-confidential>?\n",
        "format=JSON&\n",
        "acotu=true&\n",
        "irmie=true&\n",
        "types=traffic%2Calerts%2Cirregularities&\n",
        "tk=ccp_partner&\n",
        "ccp_partner_name=Organization+Partner+Name&\n",
        "polygon=-46.774,-23.482;-46.77,-23.597;-46.608,-23.715;-46.527,-23.659;-46.57,-23.581;-46.412,-23.567;-46.449,-23.461;-46.774,-23.482\n",
        "```\n",
        "\n",
        "Each line, from the second, is a parameter of the URL. So, let's discover what is each of these."
      ]
    },
    {
      "metadata": {
        "id": "DhHKlnR1-b6T",
        "colab_type": "text"
      },
      "cell_type": "markdown",
      "source": [
        "### 3.1 The parameters"
      ]
    },
    {
      "metadata": {
        "id": "zv49WuEz-b9v",
        "colab_type": "text"
      },
      "cell_type": "markdown",
      "source": [
        "We summarize the fields in the following table.\n",
        "\n",
        "<table>\n",
        "  <tr>\n",
        "    <th> Parameter </th>\n",
        "    <th> Description </th>\n",
        "  </tr>\n",
        "  <tr>\n",
        "    <td> https://&#60;something-confidential&#62;  </td>\n",
        "    <td> GeoRSS Waze API address. </td>\n",
        "  </tr>\n",
        "  <tr>\n",
        "    <td> format </td>\n",
        "    <td> Data format option. Only `JSON` or `XML` is accept.\n",
        " </td>\n",
        "  </tr>\n",
        "  <tr>\n",
        "    <td> acotu </td>\n",
        "    <td> \n",
        "      Receives the number of thumbs up by users on alerts.<br>\n",
        "      It's optional and only accept `true` or `false`.\n",
        "    </td>\n",
        "  </tr>\n",
        "  <tr>\n",
        "    <td> irmie </td>\n",
        "    <td> Receives irregularities by users. Only `true` or `false` is accept. </td>\n",
        "  </tr>\n",
        "  <tr>\n",
        "    <td> types </td>\n",
        "    <td> \n",
        "      Choose any of the waze data types. <br>\n",
        "      The accepted inputs are `traffic`, `alerts` or `irregularities` and at least one is required. \n",
        "    </td>\n",
        "  </tr>\n",
        "  <tr>\n",
        "    <td> tk </td>\n",
        "    <td> CCP organization token. *Use `ccp_partner`*</td>\n",
        "  </tr>\n",
        "  <tr>\n",
        "    <td> ccp_partner_name </td>\n",
        "    <td> CCP organization partner name. </td>\n",
        "  </tr>\n",
        "  <tr>\n",
        "    <td> polygon </td>\n",
        "    <td> The polygon of the place where the data comes from. </td>\n",
        "  </tr>\n",
        "</table>\n",
        "<br>\n",
        "*NOTE: For security reasons, we do not display the actual GeoRSS Waze API address on this notebook. To know it, use the url of the Integration that you created on the previous section, accessing the [`Get Waze Data`](https://partnerdash.google.com/partnerdash/d/wazeccp#p:id=receivedata) page on the [`Waze CCP Partner Portal`](https://partnerdash.google.com/partnerdash/d/wazeccp).*"
      ]
    },
    {
      "metadata": {
        "id": "II77RDLP-cAE",
        "colab_type": "text"
      },
      "cell_type": "markdown",
      "source": [
        "---\n",
        "We already know the URL. Good. Very good! This means that you already can request the Waze Data of your city and create interesting analysis. For that, you will need, first of all, capture this data. Therefore, our next section is exactly about how to do it. \n",
        "\n",
        "---"
      ]
    },
    {
      "metadata": {
        "id": "HSy4oRXs-cCy",
        "colab_type": "text"
      },
      "cell_type": "markdown",
      "source": [
        "## 4. Capturing Waze Data with Python "
      ]
    },
    {
      "metadata": {
        "id": "5bEKC68SdjHm",
        "colab_type": "text"
      },
      "cell_type": "markdown",
      "source": [
        ""
      ]
    },
    {
      "metadata": {
        "id": "_ZMqOKtldjKV",
        "colab_type": "text"
      },
      "cell_type": "markdown",
      "source": [
        ""
      ]
    },
    {
      "metadata": {
        "id": "oatGGWuAdjM1",
        "colab_type": "text"
      },
      "cell_type": "markdown",
      "source": [
        ""
      ]
    },
    {
      "metadata": {
        "id": "kobZ6ls9djPp",
        "colab_type": "text"
      },
      "cell_type": "markdown",
      "source": [
        ""
      ]
    },
    {
      "metadata": {
        "id": "zWHBJutTdjSY",
        "colab_type": "text"
      },
      "cell_type": "markdown",
      "source": [
        ""
      ]
    },
    {
      "metadata": {
        "id": "BsslhBKv7jDM",
        "colab_type": "text"
      },
      "cell_type": "markdown",
      "source": [
        "## Conclusion"
      ]
    },
    {
      "metadata": {
        "colab_type": "text",
        "id": "G0k1YLWN7hE8"
      },
      "cell_type": "markdown",
      "source": [
        "It's the end of the class 1. Here, we presented the Waze and the Waze CPP as a part of the IoT, showed how the map information are \"translated\" to structured data and, then, explained in detail the three types of data available by the Waze GeoRSS API: Jams, Alerts and Irregularities.\n",
        "\n",
        "In the next class, we will learn how to get and storege these data.\n",
        "\n",
        "Any suggestion or criticism is very welcome. To do that, [use our github, by clicking here](https://github.com/waze-programs/ccp-learning-center).\n",
        "\n",
        "<img style=\"width=800px\" src=\"https://drive.google.com/uc?export=view&id=1i3Ln64JRfxMseKZ3ZdKFMsRofgn7Q1oY\">"
      ]
    }
  ]
}