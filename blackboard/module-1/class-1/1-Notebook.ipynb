{
  "nbformat": 4,
  "nbformat_minor": 0,
  "metadata": {
    "colab": {
      "name": "1.1 Notebook Class 1",
      "version": "0.3.2",
      "provenance": [],
      "collapsed_sections": [
        "fCqwc1HjFWb8",
        "C1YNlZW7Lyih"
      ],
      "toc_visible": true,
      "include_colab_link": true
    }
  },
  "cells": [
    {
      "cell_type": "markdown",
      "metadata": {
        "id": "view-in-github",
        "colab_type": "text"
      },
      "source": [
        "[View in Colaboratory](https://colab.research.google.com/github/AliferSales/ccp-learning-center/blob/master/blackboard/module-1/class-1/1-Notebook.ipynb)"
      ]
    },
    {
      "metadata": {
        "id": "qJzFpgUPEFXb",
        "colab_type": "text"
      },
      "cell_type": "markdown",
      "source": [
        "# Chapter 1\n",
        "\n",
        "\n",
        "---\n",
        "\n",
        "Introduction ..."
      ]
    },
    {
      "metadata": {
        "id": "fCqwc1HjFWb8",
        "colab_type": "text"
      },
      "cell_type": "markdown",
      "source": [
        "## 1. A quick introduction to Waze and Waze CCP\n",
        "---\n"
      ]
    },
    {
      "metadata": {
        "id": "427sbAFh4RAN",
        "colab_type": "text"
      },
      "cell_type": "markdown",
      "source": [
        "In this section, we will see that Waze is a part of the Internet of Things and we will understand what is the Waze workflow and the Waze CCP."
      ]
    },
    {
      "metadata": {
        "id": "yrcQOLXj53ft",
        "colab_type": "text"
      },
      "cell_type": "markdown",
      "source": [
        "### 1.1 Internet of things (IoT)"
      ]
    },
    {
      "metadata": {
        "id": "MNoMUyzDJuk-",
        "colab_type": "text"
      },
      "cell_type": "markdown",
      "source": [
        "Internet of things is the network of physical devices and other items embedded with sensors, data capture resources and connectivity which enables to exchange data, creating opportunities for a more direct integration.\n",
        "\n",
        "<img style=\"width=800px\" src=\"https://drive.google.com/uc?export=view&id=1aQrWTVOaL1UEudb7o-de2tBCplY0xyZd\">\n",
        "\n",
        "The previous picture presents a good ideia of the Internet of Things system. On the real world, there are **things conncected to the internet**. These things, that range from cell phones to intelligent watches and from city bikes to buses tracked by GPS, send a several types of information via internet to the IoT networking, where the **data is storaged**. Then, the data can be used by **analytic engines** to improve and understand the user experience, to inform business and organizations and to provide feedback to the users.\n",
        "\n",
        "The IoT has several applications, as smart locks, smart watches, smart homes and connected cars. [Here you can see another examples of IoT implementations](https://internetofthingswiki.com/iot-applications-examples/541/). And we separeted [a study carried by IoT Analytics in 2018](https://iot-analytics.com/top-10-iot-segments-2018-real-iot-projects/) which shows a ranking of the segments with most projects on the Internet of Things. And if you like spoiler: The top 1 of this ranking is... **Smart Cities**.\n",
        "\n",
        "> **Wikipédia** _(sep/2018)_: A smart city uses different types of electronic data collection sensors to supply information which is used to manage assets and resources efficiently. This includes data collected from citizens, devices, and assets that is processed and analyzed to monitor and manage traffic and transportation systems, power plants, water supply networks, waste management, law enforcement, information systems, schools, libraries, hospitals, and other community services."
      ]
    },
    {
      "metadata": {
        "id": "d-RSPaUzLoUX",
        "colab_type": "text"
      },
      "cell_type": "markdown",
      "source": [
        "### 1.2 Waze as a part of the IoT\n"
      ]
    },
    {
      "metadata": {
        "id": "bIvnuJFqLyWZ",
        "colab_type": "text"
      },
      "cell_type": "markdown",
      "source": [
        "[Waze](https://www.waze.com/) is a crowdsource traffic and navigation app based on community contribution. Waze community is composed by:\n",
        "* **Map editors**, that build and update waze maps about road changes;\n",
        "* **Waze users** (or Wazers), that send and exchange traffic information that feed the live map; and\n",
        "* **Waze team**, that coordinates and support all efforts.\n",
        "\n",
        "Waze and Wazers are parts of the Internet of Things network, generating a large amount of data of traffic conditions, occurrences and incidents in real time. A community of more than 100 million drivers and street users all over the world sharing data and appointments about traffic. Every device connected to waze sends geo-location data that is processed and aggregated, generating instantaneous views about travel time, average speed and traffic conditions of routes. Users can also report traffic-related issues and conditions that are viewed and rated by other users, providing data and records of perceptions about traffic events. These data make up a large database with a wide range of average speed records, congestion levels, accident reports, potholes appointments on roads, traffic light issues, weather related conditions and traffic dangers perceptions among others informations. All the data have geographical position and time record that can be used for statistical and spatial analyses.\n",
        "\n",
        "Amazing, right?! But the question is: **How does it work and where is the IoT?**\n",
        "\n",
        "<img style=\"width=800px\" src=\"https://drive.google.com/uc?export=view&id=1RHhKrTn2XObOk-SgtWC4oVJSw88vNAUu\">\n",
        "\n",
        "As we can see in the previous image, the Waze dataflow is exactly on the IoT format. The things connected to internet are the **smartphones with the Waze App**, the data are storaged via the **Waze App** and the **Traffic Information** are analysed by the analytic engines. The process is very simple and follows:\n",
        "\n",
        "1. Wazers provide information through their cell phones. Besides their geolocation position and speed, wazers actively send alerts to warn other wazers about traffic conditions, road closures, potholes and many more.\n",
        "\n",
        "2. All this data is sent to a database through the Waze App.\n",
        "\n",
        "3. With lots of traffic data generated by wazers, it is possible to perform analysis to identify jams and recommend the best route to reach the desired destination. Also, alerts information is shared with other users to warn them of possible road problems.\n",
        "\n",
        "However, Waze goes beyond that...\n",
        "\n",
        " "
      ]
    },
    {
      "metadata": {
        "id": "wbcPSUWSLyYw",
        "colab_type": "text"
      },
      "cell_type": "markdown",
      "source": [
        "### 1.3 Waze CCP"
      ]
    },
    {
      "metadata": {
        "id": "TUpQoVfPLygC",
        "colab_type": "text"
      },
      "cell_type": "markdown",
      "source": [
        "Besides the common app user, Waze engages a broader community with cities and citizens. [Waze Connected Citizens Program – CCP](https://www.waze.com/ccp) is an initiative of technical cooperation between the waze team, partners in developing solutions with waze data, cities and road operators to share data and ideas. The program allows cities and traffic managers to access waze data and share with the app users oficial traffic information about road closures and events.\n",
        "\n",
        "The use of Waze data has great potential for applications in studies and monitoring of traffic performance, road safety, operational conditions, road infrastructure problems, emergency situations and perceptions of road users. Sharing traffic informations with waze community is an opportunity to improve communication channels and interaction with citizens about traffic interventions and events that impact mobility. It is also a possibility to assist in the registration, monitoring and measurement of the impacts and unfolding of cities actions.\n",
        "\n",
        "<img style=\"width=800px\" src=\"https://drive.google.com/uc?export=view&id=1sEs8fzj2KQrRq6-81Rr0Zhj7eigYwb5b\">\n",
        "\n",
        "The combination and cross-checking of Waze data and other city data sources also enables the development and improvement of advanced studies for city planning and urban mobility applications. For example we can cite some ideas such as measuring traffic jam costs, prevention and prediction of traffic accidents, traffic flow estimation, CO emission level estimation and dynamics traffic light managents.\n",
        "\n",
        "The data can be accessed and worked using free tools, which allows to generate analysis and visualization platforms quickly, easily, with basic resources and without costs or very low investment.\n"
      ]
    },
    {
      "metadata": {
        "id": "erYEP2fcaC8i",
        "colab_type": "text"
      },
      "cell_type": "markdown",
      "source": [
        "---\n",
        "WOW! Now we already know what is Waze, Waze CCP and Internet of Things, as well how Waze as a part of the IoT. Whit that, let's discover how does the information we view in the Waze App become usable data. The rest of this notebook will show what are the information that contained on the Waze map and how these data is structured. \n",
        "\n",
        "---"
      ]
    },
    {
      "metadata": {
        "id": "C1YNlZW7Lyih",
        "colab_type": "text"
      },
      "cell_type": "markdown",
      "source": [
        "## 2. From Waze map to data\n",
        "\n",
        "---"
      ]
    },
    {
      "metadata": {
        "id": "Etx142-LYbIz",
        "colab_type": "text"
      },
      "cell_type": "markdown",
      "source": [
        "The purpose of this section is to show you the information we can see on the Waze map. Let's get a real Waze live map image and identify the different types of data we can extract from it. Then, let's see what the alerts, jams and data irregularities are.\n",
        "\n",
        "After that, in the next sections, we'll look at the full information for each of these data types."
      ]
    },
    {
      "metadata": {
        "id": "ptNWwhD42YTx",
        "colab_type": "text"
      },
      "cell_type": "markdown",
      "source": [
        "### 2.1 The Waze Map"
      ]
    },
    {
      "metadata": {
        "id": "o3WIZrW2a4ow",
        "colab_type": "text"
      },
      "cell_type": "markdown",
      "source": [
        "All the information the wazers report from their Waze App to the Waze databases, as traffic jams, traffic accidents or potholes, are showed to the anothers users on the Waze map. This map is updated every time and anyone can acess it from the app or from [the Waze website](https://www.waze.com/livemap/) for any place of world (of course, where there are Waze users).\n",
        "\n",
        "In the figure below, we can see a part of the live map for the São Paulo city - certainly it is familiar if you already opened the waze app on there, at the hush hour. \n",
        "\n",
        "<img style=\"width=800px\" src=\"https://drive.google.com/uc?export=view&id=1LuB0D2tyyPiopgL1v43pbF-MR0dN5B9c\">\n",
        "\n",
        "We will use three differents types of data from Waze: **Alerts**, **Jams** and **Irregularities**. To explain each of that, we'll start with alerts and jams and for that let's use the previous image, where we highlight an alert and a traffic jam.\n",
        "\n",
        "The goal of this section isn't explore all the information from this data types. Our propurse is to give you an ideia of them and, principally, their differences."
      ]
    },
    {
      "metadata": {
        "id": "D4F_cXZ0a4mK",
        "colab_type": "text"
      },
      "cell_type": "markdown",
      "source": [
        "### 2.2 Alerts"
      ]
    },
    {
      "metadata": {
        "id": "i2oxNmaBa4jc",
        "colab_type": "text"
      },
      "cell_type": "markdown",
      "source": [
        "The **alerts** are traffic incidents reported by users. They are represented by circle shapes with a tip to their geographical position and their inside figure corresponds to the reported alert. From the specific alert highlighted in the image, we can identify the following information - *Save this example, because we will use it in the next section*:\n",
        "\n",
        "| **Field**  | **Information**  |\n",
        "|---|---|\n",
        "| Time | 2018-09-20 23:55 | \n",
        "| Address | R. Claudomiro Amazonas, São Paulo, Brazil | \n",
        "| Type | Jam: stand-still traffic | \n",
        "| Location (lat, long) | -23.585318, -46.679824 | "
      ]
    },
    {
      "metadata": {
        "id": "6tNNZ1pCa4hD",
        "colab_type": "text"
      },
      "cell_type": "markdown",
      "source": [
        "### 2.3 Jams"
      ]
    },
    {
      "metadata": {
        "id": "pV86EMbja3A6",
        "colab_type": "text"
      },
      "cell_type": "markdown",
      "source": [
        "The **jams** are sets of line segments that indicate traffic slowdown information generated by the Waze based on the user’s location and speed. A jam segment is a set of smaller road segments. To represent a jam segment, we need to know the geographical position of its road segments' endpoints. From the highlighted jam in the image, we picked yellow points on its road segments' endpoints and each of this points has a lat-long location. Its traffic jam information are:\n",
        "\n",
        "| **Field**  | **Information**  |\n",
        "|---|---|\n",
        "| Time | 2018-09-20 23:55 | \n",
        "| Address | R. Iguatemi, São Paulo, Brazil | \n",
        "| Speed | 4.33 km/h | \n",
        "| Road endpoint (lat, long) | -23.584837, -46.682061 |\n",
        "| Road endpoint (lat, long) | -23.585574, -46.681589 |\n",
        "| Road endpoint (lat, long) | -23.585937, -46.681475 |\n",
        "| Road endpoint (lat, long) | -23.586171, -46.681242 |\n",
        "| Road endpoint (lat, long) | -23.586229, -46.681111 |\n",
        "<br>\n",
        "\n",
        "Wonderful! Now you know what is alerts and jams. But, what is the third data type: irregulatities? "
      ]
    },
    {
      "metadata": {
        "id": "yHo2kUuP25gY",
        "colab_type": "text"
      },
      "cell_type": "markdown",
      "source": [
        "### 2.4 Irregularities"
      ]
    },
    {
      "metadata": {
        "id": "i9eHIbTs25d7",
        "colab_type": "text"
      },
      "cell_type": "markdown",
      "source": [
        "A **irregularity** is simply a jam that is irregular. From the analytic engines, Waze knows what jams are supposed to happen at a certain time and day of the week. When there is a jam that were not predicted, Waze reports it as a particular data type called irregularities.\n"
      ]
    },
    {
      "metadata": {
        "id": "ur5tMTPQ25bq",
        "colab_type": "text"
      },
      "cell_type": "markdown",
      "source": [
        "---\n",
        "Ok! We know that we do not show all the available data of the alerts, jams, and irregularities and that you should be excited to know it. But before, we will show how to represent the example of alerts, that we used in this section, in different data formats. This will be very useful to understand the complete alerts, jams and irregularities data in the sections 4, 5 and 6.\n",
        "\n",
        "---"
      ]
    },
    {
      "metadata": {
        "id": "YIag3hpt25Y5",
        "colab_type": "text"
      },
      "cell_type": "markdown",
      "source": [
        "## 3. Structuring the data\n",
        "\n",
        "---"
      ]
    },
    {
      "metadata": {
        "id": "X_7wbpLn25WU",
        "colab_type": "text"
      },
      "cell_type": "markdown",
      "source": [
        "In the previous section, we showed three differents data types and some informations that we can extract from them. Before we show the complete information about these data types, we need to learn some data structures that allow computers understand and process this data. Therefore, we will show 3 differents tabular data strucutes: CSV, JSON and XML.\n",
        "\n",
        "To help us to understand the following data formats, we will use the alert example from the section 2. To remember that, we've put together the example information in the image below. This example will be used throughout the section.\n",
        "\n",
        "\n",
        "<img style=\"width=800px\" src=\"https://drive.google.com/uc?export=view&id=1vi8xawOeKsqUETsZtnzNaTfWLP2fXiuc\">\n"
      ]
    },
    {
      "metadata": {
        "id": "yppKrkuK25T8",
        "colab_type": "text"
      },
      "cell_type": "markdown",
      "source": [
        "### 3.1 CSV"
      ]
    },
    {
      "metadata": {
        "id": "ufxRdGaz25Rl",
        "colab_type": "text"
      },
      "cell_type": "markdown",
      "source": [
        "The **Comma Separated Value** is the tabular most common data structure. Usualy, we use the CSV files to data structured as table and, because of that, convert it to spreadsheets is simple and its strucutre is very simmilar to a table. Let's see the general strucure.\n",
        " \n",
        " \n",
        "```\n",
        "column1, column2, column3, ..., columnk\n",
        "value1, value2, value3, ..., \"value k\"\n",
        "\"info 1\", \"info 2\", \"info 3\", ..., infok\n",
        "..., ..., ..., ..., ...\n",
        "1, 2, 3, ..., k\n",
        "\n",
        "```\n",
        "\n",
        "The code above is a general csv file. Each row of the file is a row of the represented table and the columns are separated by the comma (and the name derives from that). So, if we convert the previous csv to a spreadsheets or any table visualizator, we see the following table:  \n",
        "\n",
        "| column1 | column2 | column3 | ... | columnk |\n",
        "|---|---|---|---|---|\n",
        "| value1 | value2 | value3 | ... | value k |\n",
        "| info 1 | info 2 | info 3 | ... | infok |\n",
        "| ... | ... | ... | ... | ... |\n",
        "| 1 | 2 | 3 | ... | k |\n",
        "\n",
        "To represent our example information in a CSV file, we will need write the following file (with .csv extension) and will have the following table representation:\n",
        "\n",
        "```\n",
        "time, country, city, street, type, subtype, lat, lng\n",
        "\"2018-09-21 13:29:00:000\",BR,\"São Paulo\",\"R. Claudomiro Amazonas\", JAM,\"JAM-STAND-STILL-TRAFFIC\",-23.585318,-46.679824\n",
        "```\n",
        "\n",
        "| time | country | city | street | type | subtype | lat | lng |\n",
        "| --- | ---|---|---|---|---|---|---|\n",
        "| 2018-09-21 13:29:00:000 | BR | São Paulo | R. Claudomiro Amazonas | JAM | JAM-STAND-STILL-TRAFFIC | -23.585318 | -46.679824 |"
      ]
    },
    {
      "metadata": {
        "id": "CcyafVRw4Ung",
        "colab_type": "text"
      },
      "cell_type": "markdown",
      "source": [
        "### 3.2 JSON"
      ]
    },
    {
      "metadata": {
        "id": "F4YXKxjd6vLa",
        "colab_type": "text"
      },
      "cell_type": "markdown",
      "source": [
        "Our second data format is the **JavaScript Object Notation**.  Let's see the general structure.\n",
        "\n",
        "```json\n",
        "{\n",
        "  \"items\": [\n",
        "    {\"item1\": \"value1\"},\n",
        "    {\"item2\": {\n",
        "      \"subitem1\": \"value2.1\"\n",
        "      \"subitem2\": 22\n",
        "      \"subitem3\": \"value2.3\"\n",
        "    }},\n",
        "    {\"item3\": 3}\n",
        "  }]\n",
        "}\n",
        "\n",
        "```\n",
        "\n",
        "The structure of a json file is simple. Each value (information) is an object, that always begin with `{` and end with `}`. The object has attributes that can be interpreted as a key-value pair (e.g, `key:value`). The key is a string and the value can be a simple data (string, integer, float or boolean), another object or a list of objects. Every string used for key definition or value is written between double quotation marks and to created a list of objects, we must begin with `[` and end with `]`. \n",
        "\n",
        "In our current example, the json file is:\n",
        "\n",
        "```json\n",
        "{\n",
        "  \"startTime\": \"2018-09-20 23:55:00:000\",\n",
        "  \"endTime\": \"2018-09-20 23:56:00:000\",\n",
        "  \"alerts\": [{\n",
        "      \"country\": \"BR\",\n",
        "      \"city\": \"São Paulo\",\n",
        "      \"street\": \"R. Claudomiro Amazonas\",\n",
        "      \"location\": {\n",
        "          \"x\": -46.679824,\n",
        "          \"y\": -23.585318\n",
        "      },\n",
        "      \"type\": \"JAM\",\n",
        "      \"subtype\": \"JAM_STAND_STILL_TRAFFIC\"\n",
        "  }]\n",
        "}\n",
        "```"
      ]
    },
    {
      "metadata": {
        "id": "4RcKfMe26vIX",
        "colab_type": "text"
      },
      "cell_type": "markdown",
      "source": [
        "### 3.3 XML"
      ]
    },
    {
      "metadata": {
        "id": "k_xCwALk6vOC",
        "colab_type": "text"
      },
      "cell_type": "markdown",
      "source": [
        "Finaly, the **eXtensible Markup Language** is our third data structure and its general formats is:\n",
        "\n",
        "```xml\n",
        "<items>\n",
        "  <item1> value1 </item1>\n",
        "  <item2>\n",
        "    <subitem1> value2.1 </subitem1>\n",
        "    <subitem2> 222 </subitem2>\n",
        "    <subitem3> value2.3 </subitem3>\n",
        "  </item2>\n",
        "  <item3> 3 </item3>\n",
        "</items>\n",
        "```\n",
        "\n",
        "Instead objects as JSON, the XML is composed by tags, that is structured as follows: `<name>content</name>`. The tag's name is a string (written without the quote marks) and the content is a simple data or another tag. To create a list of tags, we just need to write tags with the same name.\n",
        "\n",
        "In our example, we have the following XML file:\n",
        "\n",
        "```xml\n",
        "<title> alert </title>\n",
        "<pubDate> Thu Sep 20 23:55:00 +0000 2018 </pubDate>\n",
        "<georss:point> -23.585318 -46.679824 </georss:point>\n",
        "<linqmap:type> JAM </linqmap:type>\n",
        "<linqmap:subtype> JAM_STAND_STILL_TRAFFIC </linqmap:subtype>\n",
        "<linqmap:street> Av. Claudomiro Amazonas </linqmap:street>\n",
        "<linqmap:city> São Paulo </linqmap:city>\n",
        "<linqmap:country> BR </linqmap:country>\n",
        "```\n"
      ]
    },
    {
      "metadata": {
        "id": "y2wc_r9D6u_F",
        "colab_type": "text"
      },
      "cell_type": "markdown",
      "source": [
        "---\n",
        "As we’ve seen, JSON and XML are good ways to structure data in a simple file. The Waze GeoRSS API return the data in the both formats, without loss of information. The JSON file is simpler to be work, more commonly used, support arrays and requires less storage space. For these practical reasons, we was selected this format for the development of the analyzes that we will see here. But if preferred, you can use XML, by adapting the JSON examples shown.\n",
        "\n",
        "Well, now we already know how to structure the data and we are prepared to see the full information about jams, alerts and irregularities that Waze turns available to us. So, each section of the next three will be responsible for each data type. \n",
        "\n",
        "---"
      ]
    },
    {
      "metadata": {
        "id": "3IiMKKkN6u8N",
        "colab_type": "text"
      },
      "cell_type": "markdown",
      "source": [
        ""
      ]
    }
  ]
}