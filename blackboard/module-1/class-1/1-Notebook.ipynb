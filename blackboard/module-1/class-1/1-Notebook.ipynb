{
  "nbformat": 4,
  "nbformat_minor": 0,
  "metadata": {
    "colab": {
      "name": "1.1 Notebook Class 1",
      "version": "0.3.2",
      "provenance": [],
      "collapsed_sections": [
        "fCqwc1HjFWb8",
        "C1YNlZW7Lyih"
      ],
      "toc_visible": true,
      "include_colab_link": true
    }
  },
  "cells": [
    {
      "cell_type": "markdown",
      "metadata": {
        "id": "view-in-github",
        "colab_type": "text"
      },
      "source": [
        "[View in Colaboratory](https://colab.research.google.com/github/AliferSales/ccp-learning-center/blob/master/blackboard/module-1/class-1/1-Notebook.ipynb)"
      ]
    },
    {
      "metadata": {
        "id": "qJzFpgUPEFXb",
        "colab_type": "text"
      },
      "cell_type": "markdown",
      "source": [
        "# Chapter 1\n",
        "\n",
        "\n",
        "---\n",
        "\n",
        "Introduction ..."
      ]
    },
    {
      "metadata": {
        "id": "fCqwc1HjFWb8",
        "colab_type": "text"
      },
      "cell_type": "markdown",
      "source": [
        "## 1. A quick introduction to Waze and Waze CCP\n",
        "---\n"
      ]
    },
    {
      "metadata": {
        "id": "427sbAFh4RAN",
        "colab_type": "text"
      },
      "cell_type": "markdown",
      "source": [
        "In this section, we will see that Waze is a part of the Internet of Things and we will understand what is the Waze workflow and the Waze CCP."
      ]
    },
    {
      "metadata": {
        "id": "yrcQOLXj53ft",
        "colab_type": "text"
      },
      "cell_type": "markdown",
      "source": [
        "### 1.1 Internet of things (IoT)"
      ]
    },
    {
      "metadata": {
        "id": "MNoMUyzDJuk-",
        "colab_type": "text"
      },
      "cell_type": "markdown",
      "source": [
        "Internet of things is the network of physical devices and other items embedded with sensors, data capture resources and connectivity which enables to exchange data, creating opportunities for a more direct integration.\n",
        "\n",
        "<img style=\"width=800px\" src=\"https://drive.google.com/uc?export=view&id=1aQrWTVOaL1UEudb7o-de2tBCplY0xyZd\">\n",
        "\n",
        "The previous picture presents a good ideia of the Internet of Things system. On the real world, there are **things conncected to the internet**. These things, that range from cell phones to intelligent watches and from city bikes to buses tracked by GPS, send a several types of information via internet to the IoT networking, where the **data is storaged**. Then, the data can be used by **analytic engines** to improve and understand the user experience, to inform business and organizations and to provide feedback to the users.\n",
        "\n",
        "The IoT has several applications, as smart locks, smart watches, smart homes and connected cars. [Here you can see another examples of IoT implementations](https://internetofthingswiki.com/iot-applications-examples/541/). And we separeted [a study carried by IoT Analytics in 2018](https://iot-analytics.com/top-10-iot-segments-2018-real-iot-projects/) which shows a ranking of the segments with most projects on the Internet of Things. And if you like spoiler: The top 1 of this ranking is... **Smart Cities**.\n",
        "\n",
        "> **Wikipédia** _(sep/2018)_: A smart city uses different types of electronic data collection sensors to supply information which is used to manage assets and resources efficiently. This includes data collected from citizens, devices, and assets that is processed and analyzed to monitor and manage traffic and transportation systems, power plants, water supply networks, waste management, law enforcement, information systems, schools, libraries, hospitals, and other community services."
      ]
    },
    {
      "metadata": {
        "id": "d-RSPaUzLoUX",
        "colab_type": "text"
      },
      "cell_type": "markdown",
      "source": [
        "### 1.2 Waze as a part of the IoT\n"
      ]
    },
    {
      "metadata": {
        "id": "bIvnuJFqLyWZ",
        "colab_type": "text"
      },
      "cell_type": "markdown",
      "source": [
        "[Waze](https://www.waze.com/) is a crowdsource traffic and navigation app based on community contribution. Waze community is composed by:\n",
        "* **Map editors**, that build and update waze maps about road changes;\n",
        "* **Waze users** (or Wazers), that send and exchange traffic information that feed the live map; and\n",
        "* **Waze team**, that coordinates and support all efforts.\n",
        "\n",
        "Waze and Wazers are parts of the Internet of Things network, generating a large amount of data of traffic conditions, occurrences and incidents in real time. A community of more than 100 million drivers and street users all over the world sharing data and appointments about traffic. Every device connected to waze sends geo-location data that is processed and aggregated, generating instantaneous views about travel time, average speed and traffic conditions of routes. Users can also report traffic-related issues and conditions that are viewed and rated by other users, providing data and records of perceptions about traffic events. These data make up a large database with a wide range of average speed records, congestion levels, accident reports, potholes appointments on roads, traffic light issues, weather related conditions and traffic dangers perceptions among others informations. All the data have geographical position and time record that can be used for statistical and spatial analyses.\n",
        "\n",
        "Amazing, right?! But the question is: **How does it work and where is the IoT?**\n",
        "\n",
        "<img style=\"width=800px\" src=\"https://drive.google.com/uc?export=view&id=1RHhKrTn2XObOk-SgtWC4oVJSw88vNAUu\">\n",
        "\n",
        "As we can see in the previous image, the Waze dataflow is exactly on the IoT format. The things connected to internet are the **smartphones with the Waze App**, the data are storaged via the **Waze App** and the **Traffic Information** are analysed by the analytic engines. The process is very simple and follows:\n",
        "\n",
        "1. Wazers provide information through their cell phones. Besides their geolocation position and speed, wazers actively send alerts to warn other wazers about traffic conditions, road closures, potholes and many more.\n",
        "\n",
        "2. All this data is sent to a database through the Waze App.\n",
        "\n",
        "3. With lots of traffic data generated by wazers, it is possible to perform analysis to identify jams and recommend the best route to reach the desired destination. Also, alerts information is shared with other users to warn them of possible road problems.\n",
        "\n",
        "However, Waze goes beyond that...\n",
        "\n",
        " "
      ]
    },
    {
      "metadata": {
        "id": "wbcPSUWSLyYw",
        "colab_type": "text"
      },
      "cell_type": "markdown",
      "source": [
        "### 1.3 Waze CCP"
      ]
    },
    {
      "metadata": {
        "id": "TUpQoVfPLygC",
        "colab_type": "text"
      },
      "cell_type": "markdown",
      "source": [
        "Besides the common app user, Waze engages a broader community with cities and citizens. [Waze Connected Citizens Program – CCP](https://www.waze.com/ccp) is an initiative of technical cooperation between the waze team, partners in developing solutions with waze data, cities and road operators to share data and ideas. The program allows cities and traffic managers to access waze data and share with the app users oficial traffic information about road closures and events.\n",
        "\n",
        "The use of Waze data has great potential for applications in studies and monitoring of traffic performance, road safety, operational conditions, road infrastructure problems, emergency situations and perceptions of road users. Sharing traffic informations with waze community is an opportunity to improve communication channels and interaction with citizens about traffic interventions and events that impact mobility. It is also a possibility to assist in the registration, monitoring and measurement of the impacts and unfolding of cities actions.\n",
        "\n",
        "<img style=\"width=800px\" src=\"https://drive.google.com/uc?export=view&id=1sEs8fzj2KQrRq6-81Rr0Zhj7eigYwb5b\">\n",
        "\n",
        "The combination and cross-checking of Waze data and other city data sources also enables the development and improvement of advanced studies for city planning and urban mobility applications. For example we can cite some ideas such as measuring traffic jam costs, prevention and prediction of traffic accidents, traffic flow estimation, CO emission level estimation and dynamics traffic light managents.\n",
        "\n",
        "The data can be accessed and worked using free tools, which allows to generate analysis and visualization platforms quickly, easily, with basic resources and without costs or very low investment.\n"
      ]
    },
    {
      "metadata": {
        "id": "erYEP2fcaC8i",
        "colab_type": "text"
      },
      "cell_type": "markdown",
      "source": [
        "How does the information we view in the Waze App become usable data? The rest of this notebook will show what are the information that contained on the Waze map and how these data is structured. "
      ]
    },
    {
      "metadata": {
        "id": "C1YNlZW7Lyih",
        "colab_type": "text"
      },
      "cell_type": "markdown",
      "source": [
        "## 2. From Waze map to data\n",
        "\n",
        "---"
      ]
    },
    {
      "metadata": {
        "id": "Etx142-LYbIz",
        "colab_type": "text"
      },
      "cell_type": "markdown",
      "source": [
        "The purpose of this section is to show you the information we can see on the Waze map. Let's get a real Waze live map image and identify the different types of data we can extract from it. Then, let's see what the alerts, jams and data irregularities are.\n",
        "\n",
        "After that, in the next sections, we'll look at the full information for each of these data types."
      ]
    },
    {
      "metadata": {
        "id": "ptNWwhD42YTx",
        "colab_type": "text"
      },
      "cell_type": "markdown",
      "source": [
        "### 2.1 The Waze Map"
      ]
    },
    {
      "metadata": {
        "id": "o3WIZrW2a4ow",
        "colab_type": "text"
      },
      "cell_type": "markdown",
      "source": [
        "All the information the wazers report from their Waze App to the Waze databases, as traffic jams, traffic accidents or potholes, are showed to the anothers users on the Waze map. This map is updated every time and anyone can acess it from the app or from [the Waze website](https://www.waze.com/livemap/) for any place of world (of course, where there are Waze users).\n",
        "\n",
        "In the figure below, we can see a part of the live map for the São Paulo city - certainly it is familiar if you already opened the waze app on there, at the hush hour. \n",
        "\n",
        "<img style=\"width=800px\" src=\"https://drive.google.com/uc?export=view&id=1LuB0D2tyyPiopgL1v43pbF-MR0dN5B9c\">\n",
        "\n",
        "We will use three differents types of data from Waze: **Alerts**, **Jams** and **Irregularities**. To explain each of that, we'll start with alerts and jams and for that let's use the previous image, where we highlight an alert and a traffic jam.\n",
        "\n",
        "The goal of this section isn't explore all the information from this data types. Our propurse is to give you an ideia of them and, principally, their differences."
      ]
    },
    {
      "metadata": {
        "id": "D4F_cXZ0a4mK",
        "colab_type": "text"
      },
      "cell_type": "markdown",
      "source": [
        "### 2.2 Alerts"
      ]
    },
    {
      "metadata": {
        "id": "i2oxNmaBa4jc",
        "colab_type": "text"
      },
      "cell_type": "markdown",
      "source": [
        "The **alerts** are traffic incidents reported by users. They are represented by circle shapes with a tip to their geographical position and their inside figure corresponds to the reported alert. From the specific alert highlighted in the image, we can identify the following information - *Save this example, because we will use it in the next section*:\n",
        "\n",
        "| **Field**  | **Information**  |\n",
        "|---|---|\n",
        "| Time | 2018-09-20 23:55 | \n",
        "| Address | R. Claudomiro Amazonas, São Paulo, Brazil | \n",
        "| Type | Jam: stand-still traffic | \n",
        "| Location (lat, long) | -23.585318, -46.679824 | "
      ]
    },
    {
      "metadata": {
        "id": "6tNNZ1pCa4hD",
        "colab_type": "text"
      },
      "cell_type": "markdown",
      "source": [
        "### 2.3 Jams"
      ]
    },
    {
      "metadata": {
        "id": "pV86EMbja3A6",
        "colab_type": "text"
      },
      "cell_type": "markdown",
      "source": [
        "The **jams** are sets of line segments that indicate traffic slowdown information generated by the Waze based on the user’s location and speed. A jam segment is a set of smaller road segments. To represent a jam segment, we need to know the geographical position of its road segments' endpoints. From the highlighted jam in the image, we picked yellow points on its road segments' endpoints and each of this points has a lat-long location. Its traffic jam information are:\n",
        "\n",
        "| **Field**  | **Information**  |\n",
        "|---|---|\n",
        "| Time | 2018-09-20 23:55 | \n",
        "| Address | R. Iguatemi, São Paulo, Brazil | \n",
        "| Speed | 4.33 km/h | \n",
        "| Road endpoint (lat, long) | -23.584837, -46.682061 |\n",
        "| Road endpoint (lat, long) | -23.585574, -46.681589 |\n",
        "| Road endpoint (lat, long) | -23.585937, -46.681475 |\n",
        "| Road endpoint (lat, long) | -23.586171, -46.681242 |\n",
        "| Road endpoint (lat, long) | -23.586229, -46.681111 |\n",
        "\n",
        "Wonderful! Now you know what is alerts and jams. But, what is the third data type: irregulatities? "
      ]
    },
    {
      "metadata": {
        "id": "yHo2kUuP25gY",
        "colab_type": "text"
      },
      "cell_type": "markdown",
      "source": [
        "### 2.4 Irregularities"
      ]
    },
    {
      "metadata": {
        "id": "i9eHIbTs25d7",
        "colab_type": "text"
      },
      "cell_type": "markdown",
      "source": [
        "A **irregularity** is simply a jam that is irregular. From the analytic engines, Waze knows what jams are supposed to happen at a certain time and day of the week. When there is a jam that were not predicted, Waze reports it as a particular data type called irregularities.\n"
      ]
    },
    {
      "metadata": {
        "id": "ur5tMTPQ25bq",
        "colab_type": "text"
      },
      "cell_type": "markdown",
      "source": [
        "Ok! We know that we do not show all the available data of the alerts, jams, and irregularities and that you should be excited to know it. But before, we will show how to represent the example of alerts, that we used in this section, in different data formats. This will be very useful to understand the complete alerts, jams and irregularities data in the sections 4, 5 and 6."
      ]
    },
    {
      "metadata": {
        "id": "YIag3hpt25Y5",
        "colab_type": "text"
      },
      "cell_type": "markdown",
      "source": [
        "## 3. Structuring the data\n",
        "\n",
        "---"
      ]
    },
    {
      "metadata": {
        "id": "X_7wbpLn25WU",
        "colab_type": "text"
      },
      "cell_type": "markdown",
      "source": [
        ""
      ]
    },
    {
      "metadata": {
        "id": "yppKrkuK25T8",
        "colab_type": "text"
      },
      "cell_type": "markdown",
      "source": [
        ""
      ]
    },
    {
      "metadata": {
        "id": "ufxRdGaz25Rl",
        "colab_type": "text"
      },
      "cell_type": "markdown",
      "source": [
        ""
      ]
    },
    {
      "metadata": {
        "id": "TeCb1359Lyk5",
        "colab_type": "text"
      },
      "cell_type": "markdown",
      "source": [
        "In our first lesson, we introduced the Internet of Things, the Waze and its data, discussed about how its data is genereted, and presented the Waze CCP.\n",
        "\n",
        "Through the Waze app, Wazers send traffic information from all over the world, all the time. So the smart phones with the Waze app can be interpreted as sensors that connect the real world to the Internet of Things network. With this data stored, the Waze CCP comunity can make analyzes and projects involving urban mobility, contributing to the expansion of smart cities.\n",
        "\n",
        "During the next classes we will see, step by step:\n",
        "* How to access, capture and store the data;\n",
        "* Free tools for use in data work and basic knowledge about them;\n",
        "* How to build and practical examples of analysis for traffic jams, accidents and hazard reports; and\n",
        "* Ideas for advanced analysis and possibilities for Waze data usage for cities.\n"
      ]
    }
  ]
}